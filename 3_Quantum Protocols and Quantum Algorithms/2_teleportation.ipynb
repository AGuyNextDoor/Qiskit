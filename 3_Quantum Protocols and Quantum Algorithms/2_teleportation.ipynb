{
 "cells": [
  {
   "cell_type": "markdown",
   "metadata": {
    "tags": [
     "remove_cell"
    ]
   },
   "source": [
    "# Quantum Teleportation"
   ]
  },
  {
   "cell_type": "markdown",
   "metadata": {},
   "source": [
    "This notebook demonstrates quantum teleportation. We first use Qiskit's built-in simulators to test our quantum circuit, and then try it out on a real quantum computer.\n",
    "\n",
    "## Contents\n",
    "\n",
    "1. [Overview](#overview)    \n",
    "2. [The Quantum Teleportation Protocol](#how)       \n",
    "3. [Simulating the Teleportation Protocol](#simulating)   \n",
    "    3.1 [How will we Test this Result on a Real Quantum Computer?](#testing)   \n",
    "    3.2 [Using the Statevector Simulator](#simulating-sv)     \n",
    "    3.3 [Using the QASM Simulator](#simulating-qs)    \n",
    "4. [Teleportation on a Real Quantum Computer](#real_qc)    \n",
    "    4.1 [IBM hardware and Deferred Measurement](#deferred-measurement)    \n",
    "    4.2 [Executing](#executing)    \n",
    "4. [References](#references)\n",
    "\n"
   ]
  },
  {
   "cell_type": "markdown",
   "metadata": {},
   "source": [
    "## 1. Overview <a id='overview'></a>"
   ]
  },
  {
   "cell_type": "markdown",
   "metadata": {},
   "source": [
    "Alice wants to send quantum information to Bob. Specifically, suppose she wants to send the qubit state\n",
    "$\\vert\\psi\\rangle = \\alpha\\vert0\\rangle + \\beta\\vert1\\rangle$. \n",
    "This entails passing on information about $\\alpha$ and $\\beta$ to Bob.\n",
    "\n",
    "There exists a theorem in quantum mechanics which states that you cannot simply make an exact copy of an unknown quantum state. This is known as the no-cloning theorem. As a result of this we can see that Alice can't simply generate a copy of $\\vert\\psi\\rangle$ and give the copy to Bob. We can only copy classical states (not superpositions).\n",
    "\n",
    "However, by taking advantage of two classical bits and an entangled qubit pair, Alice can transfer her state $\\vert\\psi\\rangle$ to Bob. We call this teleportation because, at the end, Bob will have $\\vert\\psi\\rangle$ and Alice won't anymore."
   ]
  },
  {
   "cell_type": "markdown",
   "metadata": {},
   "source": [
    "## 2. The Quantum Teleportation Protocol <a id='how'></a>\n",
    "To transfer a quantum bit, Alice and Bob must use a third party (Telamon) to send them an entangled qubit pair. Alice then performs some operations on her qubit, sends the results to Bob over a classical communication channel, and Bob then performs some operations on his end to receive Alice’s qubit.\n",
    "\n",
    "![teleportation_doodle](images/tele1.jpg)\n",
    "\n",
    "We will describe the steps on a quantum circuit below. Here, no qubits are actually ‘sent’, you’ll just have to imagine that part!\n",
    "\n",
    "First we set up our session:"
   ]
  },
  {
   "cell_type": "code",
   "execution_count": 1,
   "metadata": {
    "tags": [
     "thebelab-init"
    ]
   },
   "outputs": [],
   "source": [
    "# Do the necessary imports\n",
    "import numpy as np\n",
    "from qiskit import QuantumCircuit, QuantumRegister, ClassicalRegister, execute, BasicAer, IBMQ\n",
    "from qiskit.visualization import plot_histogram, plot_bloch_multivector\n",
    "from qiskit.extensions import Initialize\n",
    "from qiskit_textbook.tools import random_state, array_to_latex"
   ]
  },
  {
   "cell_type": "markdown",
   "metadata": {},
   "source": [
    "and create our quantum circuit:"
   ]
  },
  {
   "cell_type": "code",
   "execution_count": 2,
   "metadata": {},
   "outputs": [],
   "source": [
    "qr = QuantumRegister(3)    # Protocol uses 3 qubits\n",
    "crz = ClassicalRegister(1) # and 2 classical bits\n",
    "crx = ClassicalRegister(1) # in 2 different registers\n",
    "teleportation_circuit = QuantumCircuit(qr, crz, crx)"
   ]
  },
  {
   "cell_type": "markdown",
   "metadata": {},
   "source": [
    "#### Step 1\n",
    "A third party, Telamon, creates an entangled pair of qubits and gives one to Bob and one to Alice.\n",
    "\n",
    "The pair Telamon creates is a special pair called a Bell pair. In quantum circuit language, the way to create a Bell pair between two qubits is to first transfer one of them to the X-basis ($|+\\rangle$ and $|-\\rangle$) using a Hadamard gate, and then to apply a CNOT gate onto the other qubit controlled by the one in the X-basis. "
   ]
  },
  {
   "cell_type": "code",
   "execution_count": 3,
   "metadata": {
    "tags": [
     "thebelab-init"
    ]
   },
   "outputs": [],
   "source": [
    "def create_bell_pair(qc, a, b):\n",
    "    \"\"\"Creates a bell pair in qc using qubits a & b\"\"\"\n",
    "    qc.h(a) # Put qubit a into state |+>\n",
    "    qc.cx(a,b) # CNOT with a as control and b as target"
   ]
  },
  {
   "cell_type": "code",
   "execution_count": 4,
   "metadata": {},
   "outputs": [
    {
     "data": {
      "text/html": [
       "<pre style=\"word-wrap: normal;white-space: pre;background: #fff0;line-height: 1.1;font-family: &quot;Courier New&quot;,Courier,monospace\">                \n",
       "q1_0: ──────────\n",
       "      ┌───┐     \n",
       "q1_1: ┤ H ├──■──\n",
       "      └───┘┌─┴─┐\n",
       "q1_2: ─────┤ X ├\n",
       "           └───┘\n",
       "c2_0: ══════════\n",
       "                \n",
       "c3_0: ══════════\n",
       "                </pre>"
      ],
      "text/plain": [
       "                \n",
       "q1_0: ──────────\n",
       "      ┌───┐     \n",
       "q1_1: ┤ H ├──■──\n",
       "      └───┘┌─┴─┐\n",
       "q1_2: ─────┤ X ├\n",
       "           └───┘\n",
       "c2_0: ══════════\n",
       "                \n",
       "c3_0: ══════════\n",
       "                "
      ]
     },
     "execution_count": 4,
     "metadata": {},
     "output_type": "execute_result"
    }
   ],
   "source": [
    "## SETUP\n",
    "# Protocol uses 3 qubits and 2 classical bits in 2 different registers\n",
    "qr = QuantumRegister(3)\n",
    "crz, crx = ClassicalRegister(1), ClassicalRegister(1)\n",
    "teleportation_circuit = QuantumCircuit(qr, crz, crx)\n",
    "\n",
    "## STEP 1\n",
    "# In our case, Telamon entangles qubits q1 and q2\n",
    "# Let's apply this to our circuit:\n",
    "create_bell_pair(teleportation_circuit, 1, 2)\n",
    "# And view the circuit so far:\n",
    "teleportation_circuit.draw()"
   ]
  },
  {
   "cell_type": "markdown",
   "metadata": {},
   "source": [
    "Let's say Alice owns $q_1$ and Bob owns $q_2$ after they part ways.\n",
    "\n",
    "#### Step 2 \n",
    "\n",
    "Alice applies a CNOT gate to $q_1$, controlled by $\\vert\\psi\\rangle$ (the qubit she is trying to send Bob). Then Alice applies a Hadamard gate to $|\\psi\\rangle$. In our quantum circuit, the qubit ($|\\psi\\rangle$) Alice is trying to send is $q_0$:"
   ]
  },
  {
   "cell_type": "code",
   "execution_count": 5,
   "metadata": {
    "tags": [
     "thebelab-init"
    ]
   },
   "outputs": [],
   "source": [
    "def alice_gates(qc, psi, a):\n",
    "    qc.cx(psi, a)\n",
    "    qc.h(psi)"
   ]
  },
  {
   "cell_type": "code",
   "execution_count": 6,
   "metadata": {},
   "outputs": [
    {
     "data": {
      "text/html": [
       "<pre style=\"word-wrap: normal;white-space: pre;background: #fff0;line-height: 1.1;font-family: &quot;Courier New&quot;,Courier,monospace\">                 ░      ┌───┐\n",
       "q2_0: ───────────░───■──┤ H ├\n",
       "      ┌───┐      ░ ┌─┴─┐└───┘\n",
       "q2_1: ┤ H ├──■───░─┤ X ├─────\n",
       "      └───┘┌─┴─┐ ░ └───┘     \n",
       "q2_2: ─────┤ X ├─░───────────\n",
       "           └───┘ ░           \n",
       "c4_0: ═══════════════════════\n",
       "                             \n",
       "c5_0: ═══════════════════════\n",
       "                             </pre>"
      ],
      "text/plain": [
       "                 ░      ┌───┐\n",
       "q2_0: ───────────░───■──┤ H ├\n",
       "      ┌───┐      ░ ┌─┴─┐└───┘\n",
       "q2_1: ┤ H ├──■───░─┤ X ├─────\n",
       "      └───┘┌─┴─┐ ░ └───┘     \n",
       "q2_2: ─────┤ X ├─░───────────\n",
       "           └───┘ ░           \n",
       "c4_0: ═══════════════════════\n",
       "                             \n",
       "c5_0: ═══════════════════════\n",
       "                             "
      ]
     },
     "execution_count": 6,
     "metadata": {},
     "output_type": "execute_result"
    }
   ],
   "source": [
    "## SETUP\n",
    "# Protocol uses 3 qubits and 2 classical bits in 2 different registers\n",
    "qr = QuantumRegister(3)\n",
    "crz, crx = ClassicalRegister(1), ClassicalRegister(1)\n",
    "teleportation_circuit = QuantumCircuit(qr, crz, crx)\n",
    "\n",
    "## STEP 1\n",
    "create_bell_pair(teleportation_circuit, 1, 2)\n",
    "\n",
    "## STEP 2\n",
    "teleportation_circuit.barrier() # Use barrier to separate steps\n",
    "alice_gates(teleportation_circuit, 0, 1)\n",
    "teleportation_circuit.draw()"
   ]
  },
  {
   "cell_type": "markdown",
   "metadata": {},
   "source": [
    "#### Step 3\n",
    "\n",
    "Next, Alice applies a measurement to both qubits that she owns, $q_1$ and $\\vert\\psi\\rangle$, and stores this result in two classical bits. She then sends these two bits to Bob."
   ]
  },
  {
   "cell_type": "code",
   "execution_count": 7,
   "metadata": {
    "tags": [
     "thebelab-init"
    ]
   },
   "outputs": [],
   "source": [
    "def measure_and_send(qc, a, b):\n",
    "    \"\"\"Measures qubits a & b and 'sends' the results to Bob\"\"\"\n",
    "    qc.barrier()\n",
    "    qc.measure(a,0)\n",
    "    qc.measure(b,1)"
   ]
  },
  {
   "cell_type": "code",
   "execution_count": 8,
   "metadata": {},
   "outputs": [
    {
     "data": {
      "text/html": [
       "<pre style=\"word-wrap: normal;white-space: pre;background: #fff0;line-height: 1.1;font-family: &quot;Courier New&quot;,Courier,monospace\">                 ░      ┌───┐ ░ ┌─┐   \n",
       "q3_0: ───────────░───■──┤ H ├─░─┤M├───\n",
       "      ┌───┐      ░ ┌─┴─┐└───┘ ░ └╥┘┌─┐\n",
       "q3_1: ┤ H ├──■───░─┤ X ├──────░──╫─┤M├\n",
       "      └───┘┌─┴─┐ ░ └───┘      ░  ║ └╥┘\n",
       "q3_2: ─────┤ X ├─░────────────░──╫──╫─\n",
       "           └───┘ ░            ░  ║  ║ \n",
       "c6_0: ═══════════════════════════╩══╬═\n",
       "                                    ║ \n",
       "c7_0: ══════════════════════════════╩═\n",
       "                                      </pre>"
      ],
      "text/plain": [
       "                 ░      ┌───┐ ░ ┌─┐   \n",
       "q3_0: ───────────░───■──┤ H ├─░─┤M├───\n",
       "      ┌───┐      ░ ┌─┴─┐└───┘ ░ └╥┘┌─┐\n",
       "q3_1: ┤ H ├──■───░─┤ X ├──────░──╫─┤M├\n",
       "      └───┘┌─┴─┐ ░ └───┘      ░  ║ └╥┘\n",
       "q3_2: ─────┤ X ├─░────────────░──╫──╫─\n",
       "           └───┘ ░            ░  ║  ║ \n",
       "c6_0: ═══════════════════════════╩══╬═\n",
       "                                    ║ \n",
       "c7_0: ══════════════════════════════╩═\n",
       "                                      "
      ]
     },
     "execution_count": 8,
     "metadata": {},
     "output_type": "execute_result"
    }
   ],
   "source": [
    "## SETUP\n",
    "# Protocol uses 3 qubits and 2 classical bits in 2 different registers\n",
    "qr = QuantumRegister(3)\n",
    "crz, crx = ClassicalRegister(1), ClassicalRegister(1)\n",
    "teleportation_circuit = QuantumCircuit(qr, crz, crx)\n",
    "\n",
    "## STEP 1\n",
    "create_bell_pair(teleportation_circuit, 1, 2)\n",
    "\n",
    "## STEP 2\n",
    "teleportation_circuit.barrier() # Use barrier to separate steps\n",
    "alice_gates(teleportation_circuit, 0, 1)\n",
    "\n",
    "## STEP 3\n",
    "measure_and_send(teleportation_circuit, 0 ,1)\n",
    "teleportation_circuit.draw()"
   ]
  },
  {
   "cell_type": "markdown",
   "metadata": {},
   "source": [
    "#### Step 4\n",
    "\n",
    "Bob, who already has the qubit $q_2$, then applies the following gates depending on the state of the classical bits:\n",
    "\n",
    "00 $\\rightarrow$ Do nothing\n",
    "\n",
    "01 $\\rightarrow$ Apply $X$ gate\n",
    "\n",
    "10 $\\rightarrow$ Apply $Z$ gate\n",
    "\n",
    "11 $\\rightarrow$ Apply $ZX$ gate\n",
    "\n",
    "(*Note that this transfer of information is purely classical*.)"
   ]
  },
  {
   "cell_type": "code",
   "execution_count": 9,
   "metadata": {
    "tags": [
     "thebelab-init"
    ]
   },
   "outputs": [],
   "source": [
    "# This function takes a QuantumCircuit (qc), integer (qubit)\n",
    "# and ClassicalRegisters (crz & crx) to decide which gates to apply\n",
    "def bob_gates(qc, qubit, crz, crx):\n",
    "    # Here we use c_if to control our gates with a classical\n",
    "    # bit instead of a qubit\n",
    "    qc.x(qubit).c_if(crx, 1) # Apply gates if the registers \n",
    "    qc.z(qubit).c_if(crz, 1) # are in the state '1'"
   ]
  },
  {
   "cell_type": "code",
   "execution_count": 10,
   "metadata": {},
   "outputs": [
    {
     "data": {
      "text/html": [
       "<pre style=\"word-wrap: normal;white-space: pre;background: #fff0;line-height: 1.1;font-family: &quot;Courier New&quot;,Courier,monospace\">                 ░      ┌───┐ ░ ┌─┐    ░               \n",
       "q4_0: ───────────░───■──┤ H ├─░─┤M├────░───────────────\n",
       "      ┌───┐      ░ ┌─┴─┐└───┘ ░ └╥┘┌─┐ ░               \n",
       "q4_1: ┤ H ├──■───░─┤ X ├──────░──╫─┤M├─░───────────────\n",
       "      └───┘┌─┴─┐ ░ └───┘      ░  ║ └╥┘ ░  ┌───┐  ┌───┐ \n",
       "q4_2: ─────┤ X ├─░────────────░──╫──╫──░──┤ X ├──┤ Z ├─\n",
       "           └───┘ ░            ░  ║  ║  ░  └─┬─┘  └─┬─┘ \n",
       "                                 ║  ║       │   ┌──┴──┐\n",
       "c8_0: ═══════════════════════════╩══╬═══════╪═══╡ = 1 ╞\n",
       "                                    ║    ┌──┴──┐└─────┘\n",
       "c9_0: ══════════════════════════════╩════╡ = 1 ╞═══════\n",
       "                                         └─────┘       </pre>"
      ],
      "text/plain": [
       "                 ░      ┌───┐ ░ ┌─┐    ░               \n",
       "q4_0: ───────────░───■──┤ H ├─░─┤M├────░───────────────\n",
       "      ┌───┐      ░ ┌─┴─┐└───┘ ░ └╥┘┌─┐ ░               \n",
       "q4_1: ┤ H ├──■───░─┤ X ├──────░──╫─┤M├─░───────────────\n",
       "      └───┘┌─┴─┐ ░ └───┘      ░  ║ └╥┘ ░  ┌───┐  ┌───┐ \n",
       "q4_2: ─────┤ X ├─░────────────░──╫──╫──░──┤ X ├──┤ Z ├─\n",
       "           └───┘ ░            ░  ║  ║  ░  └─┬─┘  └─┬─┘ \n",
       "                                 ║  ║       │   ┌──┴──┐\n",
       "c8_0: ═══════════════════════════╩══╬═══════╪═══╡ = 1 ╞\n",
       "                                    ║    ┌──┴──┐└─────┘\n",
       "c9_0: ══════════════════════════════╩════╡ = 1 ╞═══════\n",
       "                                         └─────┘       "
      ]
     },
     "execution_count": 10,
     "metadata": {},
     "output_type": "execute_result"
    }
   ],
   "source": [
    "## SETUP\n",
    "# Protocol uses 3 qubits and 2 classical bits in 2 different registers\n",
    "qr = QuantumRegister(3)\n",
    "crz, crx = ClassicalRegister(1), ClassicalRegister(1)\n",
    "teleportation_circuit = QuantumCircuit(qr, crz, crx)\n",
    "\n",
    "## STEP 1\n",
    "create_bell_pair(teleportation_circuit, 1, 2)\n",
    "\n",
    "## STEP 2\n",
    "teleportation_circuit.barrier() # Use barrier to separate steps\n",
    "alice_gates(teleportation_circuit, 0, 1)\n",
    "\n",
    "## STEP 3\n",
    "measure_and_send(teleportation_circuit, 0 ,1)\n",
    "\n",
    "## STEP 4\n",
    "teleportation_circuit.barrier() # Use barrier to separate steps\n",
    "bob_gates(teleportation_circuit, 2, crz, crx)\n",
    "teleportation_circuit.draw()"
   ]
  },
  {
   "cell_type": "markdown",
   "metadata": {},
   "source": [
    "And voila! At the end of this protocol, Alice's qubit has now teleported to Bob."
   ]
  },
  {
   "cell_type": "markdown",
   "metadata": {},
   "source": [
    "## 3. Simulating the Teleportation Protocol <a id='simulating'></a>"
   ]
  },
  {
   "cell_type": "markdown",
   "metadata": {},
   "source": [
    "### 3.1 How Will We Test the Protocol on a Quantum Computer? <a id='testing'></a>"
   ]
  },
  {
   "cell_type": "markdown",
   "metadata": {},
   "source": [
    "In this notebook, we will initialize Alice's qubit in a random state $\\vert\\psi\\rangle$ (`psi`). This state will be created using an `Initialize` gate on $|q_0\\rangle$. In this chapter we use the function `random_state` to choose `psi` for us, but feel free to set `psi` to any qubit state you want."
   ]
  },
  {
   "cell_type": "code",
   "execution_count": 11,
   "metadata": {
    "tags": [
     "thebelab-init"
    ]
   },
   "outputs": [
    {
     "data": {
      "text/latex": [
       "$\\displaystyle \n",
       "|\\psi\\rangle =\\begin{bmatrix}\n",
       "-0.76477 - 0.14439i \\\\\n",
       "0.14861 + 0.61008i\n",
       "\\end{bmatrix}\n",
       "$"
      ],
      "text/plain": [
       "<IPython.core.display.Math object>"
      ]
     },
     "metadata": {},
     "output_type": "display_data"
    },
    {
     "data": {
      "image/png": "[encoded data removed]",
      "text/plain": [
       "<Figure size 288x288 with 1 Axes>"
      ]
     },
     "execution_count": 11,
     "metadata": {},
     "output_type": "execute_result"
    }
   ],
   "source": [
    "# Create random 1-qubit state\n",
    "psi = random_state(1)\n",
    "\n",
    "# Display it nicely\n",
    "array_to_latex(psi, pretext=\"|\\\\psi\\\\rangle =\")\n",
    "# Show it on a Bloch sphere\n",
    "plot_bloch_multivector(psi)"
   ]
  },
  {
   "cell_type": "markdown",
   "metadata": {},
   "source": [
    "Let's create our initialization gate to create $|\\psi\\rangle$ from the state $|0\\rangle$:"
   ]
  },
  {
   "cell_type": "code",
   "execution_count": 12,
   "metadata": {
    "tags": [
     "thebelab-init"
    ]
   },
   "outputs": [],
   "source": [
    "init_gate = Initialize(psi)\n",
    "init_gate.label = \"init\""
   ]
  },
  {
   "cell_type": "markdown",
   "metadata": {},
   "source": [
    "If the quantum teleportation circuit works, then at the end of the circuit the qubit $|q_2\\rangle$ will be in this state. We will check this using the statevector simulator."
   ]
  },
  {
   "cell_type": "markdown",
   "metadata": {},
   "source": [
    "### 3.2 Using the Statevector Simulator <a id='simulating-sv'></a>\n",
    "\n",
    "We can use the statevector simulator to verify our qubit has been teleported."
   ]
  },
  {
   "cell_type": "code",
   "execution_count": 13,
   "metadata": {},
   "outputs": [
    {
     "data": {
      "text/html": [
       "<pre style=\"word-wrap: normal;white-space: pre;background: #fff0;line-height: 1.1;font-family: &quot;Courier New&quot;,Courier,monospace\">       ┌──────┐ ░            ░      ┌───┐ ░ ┌─┐                 \n",
       " q5_0: ┤ init ├─░────────────░───■──┤ H ├─░─┤M├─────────────────\n",
       "       └──────┘ ░ ┌───┐      ░ ┌─┴─┐└───┘ ░ └╥┘┌─┐              \n",
       " q5_1: ─────────░─┤ H ├──■───░─┤ X ├──────░──╫─┤M├──────────────\n",
       "                ░ └───┘┌─┴─┐ ░ └───┘      ░  ║ └╥┘ ┌───┐  ┌───┐ \n",
       " q5_2: ─────────░──────┤ X ├─░────────────░──╫──╫──┤ X ├──┤ Z ├─\n",
       "                ░      └───┘ ░            ░  ║  ║  └─┬─┘  └─┬─┘ \n",
       "                                             ║  ║    │   ┌──┴──┐\n",
       "c10_0: ══════════════════════════════════════╩══╬════╪═══╡ = 1 ╞\n",
       "                                                ║ ┌──┴──┐└─────┘\n",
       "c11_0: ═════════════════════════════════════════╩═╡ = 1 ╞═══════\n",
       "                                                  └─────┘       </pre>"
      ],
      "text/plain": [
       "       ┌──────┐ ░            ░      ┌───┐ ░ ┌─┐                 \n",
       " q5_0: ┤ init ├─░────────────░───■──┤ H ├─░─┤M├─────────────────\n",
       "       └──────┘ ░ ┌───┐      ░ ┌─┴─┐└───┘ ░ └╥┘┌─┐              \n",
       " q5_1: ─────────░─┤ H ├──■───░─┤ X ├──────░──╫─┤M├──────────────\n",
       "                ░ └───┘┌─┴─┐ ░ └───┘      ░  ║ └╥┘ ┌───┐  ┌───┐ \n",
       " q5_2: ─────────░──────┤ X ├─░────────────░──╫──╫──┤ X ├──┤ Z ├─\n",
       "                ░      └───┘ ░            ░  ║  ║  └─┬─┘  └─┬─┘ \n",
       "                                             ║  ║    │   ┌──┴──┐\n",
       "c10_0: ══════════════════════════════════════╩══╬════╪═══╡ = 1 ╞\n",
       "                                                ║ ┌──┴──┐└─────┘\n",
       "c11_0: ═════════════════════════════════════════╩═╡ = 1 ╞═══════\n",
       "                                                  └─────┘       "
      ]
     },
     "execution_count": 13,
     "metadata": {},
     "output_type": "execute_result"
    }
   ],
   "source": [
    "## SETUP\n",
    "qr = QuantumRegister(3)   # Protocol uses 3 qubits\n",
    "crz = ClassicalRegister(1) # and 2 classical registers\n",
    "crx = ClassicalRegister(1)\n",
    "qc = QuantumCircuit(qr, crz, crx)\n",
    "\n",
    "## STEP 0\n",
    "# First, let's initialize Alice's q0\n",
    "qc.append(init_gate, [0])\n",
    "qc.barrier()\n",
    "\n",
    "## STEP 1\n",
    "# Now begins the teleportation protocol\n",
    "create_bell_pair(qc, 1, 2)\n",
    "qc.barrier()\n",
    "\n",
    "## STEP 2\n",
    "# Send q1 to Alice and q2 to Bob\n",
    "alice_gates(qc, 0, 1)\n",
    "\n",
    "## STEP 3\n",
    "# Alice then sends her classical bits to Bob\n",
    "measure_and_send(qc, 0, 1)\n",
    "\n",
    "## STEP 4\n",
    "# Bob decodes qubits\n",
    "bob_gates(qc, 2, crz, crx)\n",
    "\n",
    "# Display the circuit\n",
    "qc.draw()"
   ]
  },
  {
   "cell_type": "markdown",
   "metadata": {},
   "source": [
    "At the time of writing, there is a rendering issue with the `Initialize` gate in the image above, but the circuit operates just fine. We can see below, using our statevector simulator, that the state of $|q_2\\rangle$ is the same as the state $|\\psi\\rangle$ we created above, while the states of $|q_0\\rangle$ and $|q_1\\rangle$ have been collapsed to either $|0\\rangle$ or $|1\\rangle$. The state $|\\psi\\rangle$ has been teleported from qubit 0 to qubit 2."
   ]
  },
  {
   "cell_type": "code",
   "execution_count": 14,
   "metadata": {},
   "outputs": [
    {
     "data": {
      "image/png": "[encoded data removed]",
      "text/plain": [
       "<Figure size 864x288 with 3 Axes>"
      ]
     },
     "execution_count": 14,
     "metadata": {},
     "output_type": "execute_result"
    }
   ],
   "source": [
    "backend = BasicAer.get_backend('statevector_simulator')\n",
    "out_vector = execute(qc, backend).result().get_statevector()\n",
    "plot_bloch_multivector(out_vector)"
   ]
  },
  {
   "cell_type": "markdown",
   "metadata": {},
   "source": [
    "You can run this cell a few times to make sure. You may notice that the qubits 0 & 1 change states, but qubit 2 is always in the state $|\\psi\\rangle$."
   ]
  },
  {
   "cell_type": "markdown",
   "metadata": {},
   "source": [
    "### 3.3 Using the QASM Simulator <a id='simulating-qs'></a>\n",
    "\n",
    "Quantum teleportation is designed to send qubits between two parties. We do not have the hardware to demonstrate this, but we can demonstrate that the gates perform the correct transformations on a single quantum chip. Here we use the QASM simulator to simulate how we might test our protocol.\n",
    "\n",
    "On a real quantum computer, we would not be able to sample the statevector, so if we wanted to check our teleportation circuit is working, we need to do things slightly differently. You will remember that we used `Initialize` to turn our $|0\\rangle$ qubit into the state $|\\psi\\rangle$:\n",
    "\n",
    "$$ |0\\rangle \\xrightarrow{\\text{Initialize}} |\\psi\\rangle $$\n",
    "\n",
    "Since all quantum gates are reversible, we can find the inverse of Initialize using:"
   ]
  },
  {
   "cell_type": "code",
   "execution_count": 15,
   "metadata": {
    "tags": [
     "thebelab-init"
    ]
   },
   "outputs": [],
   "source": [
    "inverse_init_gate = init_gate.gates_to_uncompute()"
   ]
  },
  {
   "cell_type": "markdown",
   "metadata": {},
   "source": [
    "This operation has the property:\n",
    "\n",
    "$$ |\\psi\\rangle \\xrightarrow{\\text{Inverse Initialize}} |0\\rangle $$\n",
    "\n",
    "To prove the qubit $|q_0\\rangle$ has been teleported to $|q_2\\rangle$, if we do this inverse initialization on $|q_2\\rangle$, we expect to measure $|0\\rangle$ with certainty. We do this in the circuit below:"
   ]
  },
  {
   "cell_type": "code",
   "execution_count": 16,
   "metadata": {},
   "outputs": [
    {
     "data": {
      "text/html": [
       "<pre style=\"word-wrap: normal;white-space: pre;background: #fff0;line-height: 1.1;font-family: &quot;Courier New&quot;,Courier,monospace\">       ┌──────┐ ░            ░      ┌───┐ ░ ┌─┐                 »\n",
       "q12_0: ┤ init ├─░────────────░───■──┤ H ├─░─┤M├─────────────────»\n",
       "       └──────┘ ░ ┌───┐      ░ ┌─┴─┐└───┘ ░ └╥┘┌─┐              »\n",
       "q12_1: ─────────░─┤ H ├──■───░─┤ X ├──────░──╫─┤M├──────────────»\n",
       "                ░ └───┘┌─┴─┐ ░ └───┘      ░  ║ └╥┘ ┌───┐  ┌───┐ »\n",
       "q12_2: ─────────░──────┤ X ├─░────────────░──╫──╫──┤ X ├──┤ Z ├─»\n",
       "                ░      └───┘ ░            ░  ║  ║  └─┬─┘  └─┬─┘ »\n",
       "                                             ║  ║    │   ┌──┴──┐»\n",
       "c12_0: ══════════════════════════════════════╩══╬════╪═══╡ = 1 ╞»\n",
       "                                                ║ ┌──┴──┐└─────┘»\n",
       "c13_0: ═════════════════════════════════════════╩═╡ = 1 ╞═══════»\n",
       "                                                  └─────┘       »\n",
       "«                       \n",
       "«q12_0: ────────────────\n",
       "«                       \n",
       "«q12_1: ────────────────\n",
       "«       ┌──────────────┐\n",
       "«q12_2: ┤ disentangler ├\n",
       "«       └──────────────┘\n",
       "«c12_0: ════════════════\n",
       "«                       \n",
       "«c13_0: ════════════════\n",
       "«                       </pre>"
      ],
      "text/plain": [
       "       ┌──────┐ ░            ░      ┌───┐ ░ ┌─┐                 »\n",
       "q12_0: ┤ init ├─░────────────░───■──┤ H ├─░─┤M├─────────────────»\n",
       "       └──────┘ ░ ┌───┐      ░ ┌─┴─┐└───┘ ░ └╥┘┌─┐              »\n",
       "q12_1: ─────────░─┤ H ├──■───░─┤ X ├──────░──╫─┤M├──────────────»\n",
       "                ░ └───┘┌─┴─┐ ░ └───┘      ░  ║ └╥┘ ┌───┐  ┌───┐ »\n",
       "q12_2: ─────────░──────┤ X ├─░────────────░──╫──╫──┤ X ├──┤ Z ├─»\n",
       "                ░      └───┘ ░            ░  ║  ║  └─┬─┘  └─┬─┘ »\n",
       "                                             ║  ║    │   ┌──┴──┐»\n",
       "c12_0: ══════════════════════════════════════╩══╬════╪═══╡ = 1 ╞»\n",
       "                                                ║ ┌──┴──┐└─────┘»\n",
       "c13_0: ═════════════════════════════════════════╩═╡ = 1 ╞═══════»\n",
       "                                                  └─────┘       »\n",
       "«                       \n",
       "«q12_0: ────────────────\n",
       "«                       \n",
       "«q12_1: ────────────────\n",
       "«       ┌──────────────┐\n",
       "«q12_2: ┤ disentangler ├\n",
       "«       └──────────────┘\n",
       "«c12_0: ════════════════\n",
       "«                       \n",
       "«c13_0: ════════════════\n",
       "«                       "
      ]
     },
     "execution_count": 16,
     "metadata": {},
     "output_type": "execute_result"
    }
   ],
   "source": [
    "## SETUP\n",
    "qr = QuantumRegister(3)   # Protocol uses 3 qubits\n",
    "crz = ClassicalRegister(1) # and 2 classical registers\n",
    "crx = ClassicalRegister(1)\n",
    "qc = QuantumCircuit(qr, crz, crx)\n",
    "\n",
    "## STEP 0\n",
    "# First, let's initialize Alice's q0\n",
    "qc.append(init_gate, [0])\n",
    "qc.barrier()\n",
    "\n",
    "## STEP 1\n",
    "# Now begins the teleportation protocol\n",
    "create_bell_pair(qc, 1, 2)\n",
    "qc.barrier()\n",
    "\n",
    "## STEP 2\n",
    "# Send q1 to Alice and q2 to Bob\n",
    "alice_gates(qc, 0, 1)\n",
    "\n",
    "## STEP 3\n",
    "# Alice then sends her classical bits to Bob\n",
    "measure_and_send(qc, 0, 1)\n",
    "\n",
    "## STEP 4\n",
    "# Bob decodes qubits\n",
    "bob_gates(qc, 2, crz, crx)\n",
    "\n",
    "## STEP 5\n",
    "# reverse the initialization process\n",
    "qc.append(inverse_init_gate, [2])\n",
    "\n",
    "# Display the circuit\n",
    "qc.draw()"
   ]
  },
  {
   "cell_type": "markdown",
   "metadata": {},
   "source": [
    "Again, there is a rendering issue with the `inverse_init_gate` (called 'disentangler' on the circuit diagram), but we can clearly see the gate appearing in the image. Finally, we measure the third qubit and store the result in the third classical bit:"
   ]
  },
  {
   "cell_type": "code",
   "execution_count": 17,
   "metadata": {},
   "outputs": [
    {
     "data": {
      "text/html": [
       "<pre style=\"word-wrap: normal;white-space: pre;background: #fff0;line-height: 1.1;font-family: &quot;Courier New&quot;,Courier,monospace\">       ┌──────┐ ░            ░      ┌───┐ ░ ┌─┐                 »\n",
       "q12_0: ┤ init ├─░────────────░───■──┤ H ├─░─┤M├─────────────────»\n",
       "       └──────┘ ░ ┌───┐      ░ ┌─┴─┐└───┘ ░ └╥┘┌─┐              »\n",
       "q12_1: ─────────░─┤ H ├──■───░─┤ X ├──────░──╫─┤M├──────────────»\n",
       "                ░ └───┘┌─┴─┐ ░ └───┘      ░  ║ └╥┘ ┌───┐  ┌───┐ »\n",
       "q12_2: ─────────░──────┤ X ├─░────────────░──╫──╫──┤ X ├──┤ Z ├─»\n",
       "                ░      └───┘ ░            ░  ║  ║  └─┬─┘  └─┬─┘ »\n",
       "                                             ║  ║    │   ┌──┴──┐»\n",
       "c12_0: ══════════════════════════════════════╩══╬════╪═══╡ = 1 ╞»\n",
       "                                                ║ ┌──┴──┐└─────┘»\n",
       "c13_0: ═════════════════════════════════════════╩═╡ = 1 ╞═══════»\n",
       "                                                  └─────┘       »\n",
       "c14_0: ═════════════════════════════════════════════════════════»\n",
       "                                                                »\n",
       "«                          \n",
       "«q12_0: ───────────────────\n",
       "«                          \n",
       "«q12_1: ───────────────────\n",
       "«       ┌──────────────┐┌─┐\n",
       "«q12_2: ┤ disentangler ├┤M├\n",
       "«       └──────────────┘└╥┘\n",
       "«c12_0: ═════════════════╬═\n",
       "«                        ║ \n",
       "«c13_0: ═════════════════╬═\n",
       "«                        ║ \n",
       "«c14_0: ═════════════════╩═\n",
       "«                          </pre>"
      ],
      "text/plain": [
       "       ┌──────┐ ░            ░      ┌───┐ ░ ┌─┐                 »\n",
       "q12_0: ┤ init ├─░────────────░───■──┤ H ├─░─┤M├─────────────────»\n",
       "       └──────┘ ░ ┌───┐      ░ ┌─┴─┐└───┘ ░ └╥┘┌─┐              »\n",
       "q12_1: ─────────░─┤ H ├──■───░─┤ X ├──────░──╫─┤M├──────────────»\n",
       "                ░ └───┘┌─┴─┐ ░ └───┘      ░  ║ └╥┘ ┌───┐  ┌───┐ »\n",
       "q12_2: ─────────░──────┤ X ├─░────────────░──╫──╫──┤ X ├──┤ Z ├─»\n",
       "                ░      └───┘ ░            ░  ║  ║  └─┬─┘  └─┬─┘ »\n",
       "                                             ║  ║    │   ┌──┴──┐»\n",
       "c12_0: ══════════════════════════════════════╩══╬════╪═══╡ = 1 ╞»\n",
       "                                                ║ ┌──┴──┐└─────┘»\n",
       "c13_0: ═════════════════════════════════════════╩═╡ = 1 ╞═══════»\n",
       "                                                  └─────┘       »\n",
       "c14_0: ═════════════════════════════════════════════════════════»\n",
       "                                                                »\n",
       "«                          \n",
       "«q12_0: ───────────────────\n",
       "«                          \n",
       "«q12_1: ───────────────────\n",
       "«       ┌──────────────┐┌─┐\n",
       "«q12_2: ┤ disentangler ├┤M├\n",
       "«       └──────────────┘└╥┘\n",
       "«c12_0: ═════════════════╬═\n",
       "«                        ║ \n",
       "«c13_0: ═════════════════╬═\n",
       "«                        ║ \n",
       "«c14_0: ═════════════════╩═\n",
       "«                          "
      ]
     },
     "execution_count": 17,
     "metadata": {},
     "output_type": "execute_result"
    }
   ],
   "source": [
    "# Need to add a new ClassicalRegister\n",
    "# to see the result\n",
    "cr_result = ClassicalRegister(1)\n",
    "qc.add_register(cr_result)\n",
    "qc.measure(2,2)\n",
    "qc.draw()"
   ]
  },
  {
   "cell_type": "markdown",
   "metadata": {},
   "source": [
    "and we run our experiment:"
   ]
  },
  {
   "cell_type": "code",
   "execution_count": 18,
   "metadata": {},
   "outputs": [
    {
     "data": {
      "image/png": "[encoded data removed]",
      "text/plain": [
       "<Figure size 504x360 with 1 Axes>"
      ]
     },
     "execution_count": 18,
     "metadata": {},
     "output_type": "execute_result"
    }
   ],
   "source": [
    "backend = BasicAer.get_backend('qasm_simulator')\n",
    "counts = execute(qc, backend, shots=1024).result().get_counts()\n",
    "plot_histogram(counts)"
   ]
  },
  {
   "cell_type": "markdown",
   "metadata": {},
   "source": [
    "We can see we have a 100% chance of measuring $q_2$ (the leftmost bit in the string) in the state $|0\\rangle$. This is the expected result, and indicates the teleportation protocol has worked properly."
   ]
  },
  {
   "cell_type": "markdown",
   "metadata": {},
   "source": [
    "## 4. Teleportation on a Real Quantum Computer <a id='real_qc'></a>"
   ]
  },
  {
   "cell_type": "markdown",
   "metadata": {},
   "source": [
    "### 4.1 IBM hardware and Deferred Measurement <a id='deferred-measurement'></a>\n",
    "\n",
    "The IBM quantum computers currently do not support instructions after measurements, meaning we cannot run the quantum teleportation in its current form on real hardware. Fortunately, this does not limit our ability to perform any computations due to the _deferred measurement principle_ discussed in chapter 4.4 of [1]. The principle states that any measurement can be postponed until the end of the circuit, i.e. we can move all the measurements to the end, and we should see the same results.\n",
    "\n",
    "![deferred_measurement_gates](images/defer_measurement.svg)\n",
    "\n",
    "Any benefits of measuring early are hardware related: If we can measure early, we may be able to reuse qubits, or reduce the amount of time our qubits are in their fragile superposition. In this example, the early measurement in quantum teleportation would have allowed us to transmit a qubit state without a direct quantum communication channel.\n",
    "\n",
    "While moving the gates allows us to demonstrate the \"teleportation\" circuit on real hardware, it should be noted that the benefit of the teleportation process (transferring quantum states via classical channels) is lost.\n",
    "\n",
    "Let us re-write the `bob_gates` function to `new_bob_gates`:"
   ]
  },
  {
   "cell_type": "code",
   "execution_count": 19,
   "metadata": {
    "tags": [
     "thebelab-init"
    ]
   },
   "outputs": [],
   "source": [
    "def new_bob_gates(qc, a, b, c):\n",
    "    qc.cz(a, c)\n",
    "    qc.cx(b, c)"
   ]
  },
  {
   "cell_type": "markdown",
   "metadata": {},
   "source": [
    "And create our new circuit:"
   ]
  },
  {
   "cell_type": "code",
   "execution_count": 20,
   "metadata": {},
   "outputs": [
    {
     "data": {
      "text/html": [
       "<pre style=\"word-wrap: normal;white-space: pre;background: #fff0;line-height: 1.1;font-family: &quot;Courier New&quot;,Courier,monospace\">     ┌──────┐ ░            ░      ┌───┐ ░                            \n",
       "q_0: ┤ init ├─░────────────░───■──┤ H ├─░──■─────────────────────────\n",
       "     └──────┘ ░ ┌───┐      ░ ┌─┴─┐└───┘ ░  │                         \n",
       "q_1: ─────────░─┤ H ├──■───░─┤ X ├──────░──┼───■─────────────────────\n",
       "              ░ └───┘┌─┴─┐ ░ └───┘      ░  │ ┌─┴─┐┌──────────────┐┌─┐\n",
       "q_2: ─────────░──────┤ X ├─░────────────░──■─┤ X ├┤ disentangler ├┤M├\n",
       "              ░      └───┘ ░            ░    └───┘└──────────────┘└╥┘\n",
       "c_0: ══════════════════════════════════════════════════════════════╩═\n",
       "                                                                     </pre>"
      ],
      "text/plain": [
       "     ┌──────┐ ░            ░      ┌───┐ ░                            \n",
       "q_0: ┤ init ├─░────────────░───■──┤ H ├─░──■─────────────────────────\n",
       "     └──────┘ ░ ┌───┐      ░ ┌─┴─┐└───┘ ░  │                         \n",
       "q_1: ─────────░─┤ H ├──■───░─┤ X ├──────░──┼───■─────────────────────\n",
       "              ░ └───┘┌─┴─┐ ░ └───┘      ░  │ ┌─┴─┐┌──────────────┐┌─┐\n",
       "q_2: ─────────░──────┤ X ├─░────────────░──■─┤ X ├┤ disentangler ├┤M├\n",
       "              ░      └───┘ ░            ░    └───┘└──────────────┘└╥┘\n",
       "c_0: ══════════════════════════════════════════════════════════════╩═\n",
       "                                                                     "
      ]
     },
     "execution_count": 20,
     "metadata": {},
     "output_type": "execute_result"
    }
   ],
   "source": [
    "qc = QuantumCircuit(3,1)\n",
    "\n",
    "# First, let's initialize Alice's q0\n",
    "qc.append(init_gate, [0])\n",
    "qc.barrier()\n",
    "\n",
    "# Now begins the teleportation protocol\n",
    "create_bell_pair(qc, 1, 2)\n",
    "qc.barrier()\n",
    "# Send q1 to Alice and q2 to Bob\n",
    "alice_gates(qc, 0, 1)\n",
    "qc.barrier()\n",
    "# Alice sends classical bits to Bob\n",
    "new_bob_gates(qc, 0, 1, 2)\n",
    "\n",
    "# We undo the initialization process\n",
    "qc.append(inverse_init_gate, [2])\n",
    "\n",
    "# See the results, we only care about the state of qubit 2\n",
    "qc.measure(2,0)\n",
    "\n",
    "# View the results:\n",
    "qc.draw()"
   ]
  },
  {
   "cell_type": "markdown",
   "metadata": {},
   "source": [
    "### 4.2 Executing <a id='executing'></a> "
   ]
  },
  {
   "cell_type": "code",
   "execution_count": 21,
   "metadata": {
    "tags": [
     "uses-hardware"
    ]
   },
   "outputs": [
    {
     "ename": "IBMQAccountCredentialsNotFound",
     "evalue": "'No IBM Quantum Experience credentials found.'",
     "output_type": "error",
     "traceback": [
      "\u001b[0;31m---------------------------------------------------------------------------\u001b[0m",
      "\u001b[0;31mIBMQAccountCredentialsNotFound\u001b[0m            Traceback (most recent call last)",
      "\u001b[0;32m<ipython-input-21-7aebdf283058>\u001b[0m in \u001b[0;36m<module>\u001b[0;34m\u001b[0m\n\u001b[1;32m      1\u001b[0m \u001b[0;31m# First, see what devices we are allowed to use by loading our saved accounts\u001b[0m\u001b[0;34m\u001b[0m\u001b[0;34m\u001b[0m\u001b[0;34m\u001b[0m\u001b[0m\n\u001b[0;32m----> 2\u001b[0;31m \u001b[0mIBMQ\u001b[0m\u001b[0;34m.\u001b[0m\u001b[0mload_account\u001b[0m\u001b[0;34m(\u001b[0m\u001b[0;34m)\u001b[0m\u001b[0;34m\u001b[0m\u001b[0;34m\u001b[0m\u001b[0m\n\u001b[0m\u001b[1;32m      3\u001b[0m \u001b[0mprovider\u001b[0m \u001b[0;34m=\u001b[0m \u001b[0mIBMQ\u001b[0m\u001b[0;34m.\u001b[0m\u001b[0mget_provider\u001b[0m\u001b[0;34m(\u001b[0m\u001b[0mhub\u001b[0m\u001b[0;34m=\u001b[0m\u001b[0;34m'ibm-q'\u001b[0m\u001b[0;34m)\u001b[0m\u001b[0;34m\u001b[0m\u001b[0;34m\u001b[0m\u001b[0m\n\u001b[1;32m      4\u001b[0m \u001b[0mprovider\u001b[0m\u001b[0;34m.\u001b[0m\u001b[0mbackends\u001b[0m\u001b[0;34m(\u001b[0m\u001b[0;34m)\u001b[0m\u001b[0;34m\u001b[0m\u001b[0;34m\u001b[0m\u001b[0m\n",
      "\u001b[0;32m/usr/local/lib/python3.7/site-packages/qiskit/providers/ibmq/ibmqfactory.py\u001b[0m in \u001b[0;36mload_account\u001b[0;34m(self)\u001b[0m\n\u001b[1;32m    168\u001b[0m         \u001b[0;32mif\u001b[0m \u001b[0;32mnot\u001b[0m \u001b[0mcredentials_list\u001b[0m\u001b[0;34m:\u001b[0m\u001b[0;34m\u001b[0m\u001b[0;34m\u001b[0m\u001b[0m\n\u001b[1;32m    169\u001b[0m             raise IBMQAccountCredentialsNotFound(\n\u001b[0;32m--> 170\u001b[0;31m                 'No IBM Quantum Experience credentials found.')\n\u001b[0m\u001b[1;32m    171\u001b[0m \u001b[0;34m\u001b[0m\u001b[0m\n\u001b[1;32m    172\u001b[0m         \u001b[0;32mif\u001b[0m \u001b[0mlen\u001b[0m\u001b[0;34m(\u001b[0m\u001b[0mcredentials_list\u001b[0m\u001b[0;34m)\u001b[0m \u001b[0;34m>\u001b[0m \u001b[0;36m1\u001b[0m\u001b[0;34m:\u001b[0m\u001b[0;34m\u001b[0m\u001b[0;34m\u001b[0m\u001b[0m\n",
      "\u001b[0;31mIBMQAccountCredentialsNotFound\u001b[0m: 'No IBM Quantum Experience credentials found.'"
     ]
    }
   ],
   "source": [
    "# First, see what devices we are allowed to use by loading our saved accounts\n",
    "IBMQ.load_account()\n",
    "provider = IBMQ.get_provider(hub='ibm-q')\n",
    "provider.backends()"
   ]
  },
  {
   "cell_type": "code",
   "execution_count": null,
   "metadata": {
    "tags": [
     "uses-hardware"
    ]
   },
   "outputs": [],
   "source": [
    "# get the least-busy backend at IBM and run the quantum circuit there\n",
    "from qiskit.providers.ibmq import least_busy\n",
    "backend = least_busy(provider.backends(filters=lambda b: b.configuration().n_qubits >= 3 and\n",
    "                                   not b.configuration().simulator and b.status().operational==True))\n",
    "job_exp = execute(qc, backend=backend, shots=8192)"
   ]
  },
  {
   "cell_type": "code",
   "execution_count": null,
   "metadata": {
    "tags": [
     "uses-hardware"
    ]
   },
   "outputs": [],
   "source": [
    "# Get the results and display them\n",
    "exp_result = job_exp.result()\n",
    "exp_measurement_result = exp_result.get_counts(qc)\n",
    "print(exp_measurement_result)\n",
    "plot_histogram(exp_measurement_result)"
   ]
  },
  {
   "cell_type": "markdown",
   "metadata": {},
   "source": [
    "As we see here, there are a few results in which we measured $|1\\rangle$. These arise due to errors in the gates and the qubits. In contrast, our simulator in the earlier part of the notebook had zero errors in its gates, and allowed error-free teleportation."
   ]
  },
  {
   "cell_type": "code",
   "execution_count": null,
   "metadata": {
    "tags": [
     "uses-hardware"
    ]
   },
   "outputs": [],
   "source": [
    "error_rate_percent = sum([exp_measurement_result[result] for result in exp_measurement_result.keys() if result[0]=='1']) \\\n",
    "                    * 100./ sum(list(exp_measurement_result.values()))\n",
    "print(\"The experimental error rate : \", error_rate_percent, \"%\")"
   ]
  },
  {
   "cell_type": "markdown",
   "metadata": {},
   "source": [
    "## 5. References <a id='references'></a>\n",
    "[1] M. Nielsen and I. Chuang, Quantum Computation and Quantum Information, Cambridge Series on Information and the Natural Sciences (Cambridge University Press, Cambridge, 2000)."
   ]
  },
  {
   "cell_type": "code",
   "execution_count": null,
   "metadata": {},
   "outputs": [],
   "source": [
    "import qiskit\n",
    "qiskit.__qiskit_version__"
   ]
  }
 ],
 "metadata": {
  "kernelspec": {
   "display_name": "Python 3",
   "language": "python",
   "name": "python3"
  },
  "language_info": {
   "codemirror_mode": {
    "name": "ipython",
    "version": 3
   },
   "file_extension": ".py",
   "mimetype": "text/x-python",
   "name": "python",
   "nbconvert_exporter": "python",
   "pygments_lexer": "ipython3",
   "version": "3.7.8"
  },
  "toc": {
   "base_numbering": 1,
   "nav_menu": {},
   "number_sections": true,
   "sideBar": true,
   "skip_h1_title": false,
   "title_cell": "Table of Contents",
   "title_sidebar": "Contents",
   "toc_cell": false,
   "toc_position": {},
   "toc_section_display": true,
   "toc_window_display": false
  }
 },
 "nbformat": 4,
 "nbformat_minor": 4
}
