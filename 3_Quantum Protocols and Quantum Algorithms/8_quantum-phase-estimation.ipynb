{
 "cells": [
  {
   "cell_type": "markdown",
   "metadata": {
    "tags": [
     "remove_cell"
    ]
   },
   "source": [
    "# Quantum Phase Estimation"
   ]
  },
  {
   "cell_type": "markdown",
   "metadata": {},
   "source": [
    "## Contents\n",
    "\n",
    "1. [Overview](#overview)    \n",
    "    1.1 [Intuition](#intuition)    \n",
    "    1.2 [Mathematical Basis](#maths)\n",
    "2. [Example: T-gate](#example_t_gate)    \n",
    "    2.1 [Creating the Circuit](#creating_the_circuit)    \n",
    "    2.2 [Results](#results)    \n",
    "3. [Getting More Precision](#getting_more_precision)    \n",
    "    3.1 [The Problem](#the_problem)    \n",
    "    3.2 [The Solution](#the_solution)    \n",
    "4. [Experimenting on Real Devices](#real_devices)    \n",
    "    4.1 [With the Circuit from 2.1](#circuit_2.1)    \n",
    "5. [Exercises](#exercises)   \n",
    "6. [Looking Forward](#looking_forward)\n",
    "7. [References](#references)\n",
    "8. [Contributors](#contributors)"
   ]
  },
  {
   "cell_type": "markdown",
   "metadata": {},
   "source": [
    "Quantum phase estimation is one of the most important subroutines in quantum computation. It serves as a central building block for many quantum algorithms. The objective of the algorithm is the following:\n",
    "\n",
    "Given a unitary operator $U$, the algorithm estimates $\\theta$ in $U\\vert\\psi \\rangle =e^{\\boldsymbol{2\\pi i} \\theta }|\\psi \\rangle$. Here $|\\psi\\rangle$ is an eigenvector and $e^{\\boldsymbol{2\\pi i}\\theta}$ is the corresponding eigenvalue. Since $U$ is unitary, all of its eigenvalues have a norm of 1."
   ]
  },
  {
   "cell_type": "markdown",
   "metadata": {},
   "source": [
    "## 1. Overview <a id='overview'></a>"
   ]
  },
  {
   "cell_type": "markdown",
   "metadata": {},
   "source": [
    "The general quantum circuit for phase estimation is shown below. The top register contains $t$ 'counting' qubits, and the bottom contains qubits in the state $|\\psi\\rangle$:\n",
    "![image1](images/qpe_tex_qz.png)\n"
   ]
  },
  {
   "cell_type": "markdown",
   "metadata": {},
   "source": [
    "### 1.1 Intuition <a id='intuition'></a>\n",
    "The quantum phase estimation algorithm uses phase kickback to write the phase of $U$ (in the Fourier basis) to the $t$ qubits in the counting register. We then use the inverse QFT to translate this from the Fourier basis into the computational basis, which we can measure.\n",
    "\n",
    "We remember (from the QFT chapter) that in the Fourier basis the topmost qubit completes one full rotation when counting between $0$ and $2^t$. To count to a number, $x$ between $0$ and $2^t$, we rotate this qubit by $\\tfrac{x}{2^t}$ around the z-axis. For the next qubit we rotate by $\\tfrac{2x}{2^t}$, then $\\tfrac{4x}{2^t}$ for the third qubit.\n",
    "\n",
    "![image2](images/qpe_intuition.jpg)\n",
    "\n",
    "When we use a qubit to control the $U$-gate, the qubit will turn (due to kickback) proportionally to the phase $e^{2i\\pi\\theta}$. We can use successive $CU$-gates to repeat this rotation an appropriate number of times until we have encoded the phase theta as a number between $0$ and $2^t$ in the Fourier basis. \n",
    "\n",
    "Then we simply use $QFT^\\dagger$ to convert this into the computational basis.\n",
    "\n"
   ]
  },
  {
   "cell_type": "markdown",
   "metadata": {},
   "source": [
    "### 1.2 Mathematical Foundation <a id='maths'></a>\n",
    "\n",
    "As mentioned above, this circuit estimates the phase of a unitary operator $U$. It estimates $\\theta$ in $U\\vert\\psi \\rangle =e^{\\boldsymbol{2\\pi i} \\theta }|\\psi \\rangle$, where $|\\psi\\rangle$ is an eigenvector and $e^{\\boldsymbol{2\\pi i}\\theta}$ is the corresponding eigenvalue. The circuit operates in the following steps:\n",
    "\n",
    "i. **Setup**: $\\vert\\psi\\rangle$ is in one set of qubit registers. An additional set of $n$ qubits form the counting register on which we will store the value $2^n\\theta$: \n",
    "\n",
    "\n",
    "\n",
    "$$ \\psi_0 = \\lvert 0 \\rangle^{\\otimes n} \\lvert \\psi \\rangle$$\n",
    "\n",
    " \n",
    "\n",
    "ii. **Superposition**: Apply a $n$-bit Hadamard gate operation $H^{\\otimes n}$ on the counting register: \n",
    "\n",
    "\n",
    "\n",
    "$$ \\psi_1 = {\\frac {1}{2^{\\frac {n}{2}}}}\\left(|0\\rangle +|1\\rangle \\right)^{\\otimes n} \\lvert \\psi \\rangle$$\n",
    "\n",
    "\n",
    "\n",
    "iii. **Controlled Unitary Operations**: We need to introduce the controlled unitary $C-U$ that applies the unitary operator $U$ on the target register only if its corresponding control bit is $|1\\rangle$. Since $U$ is a unitary operatory with eigenvector $|\\psi\\rangle$ such that $U|\\psi \\rangle =e^{\\boldsymbol{2\\pi i} \\theta }|\\psi \\rangle$, this means: \n",
    "\n",
    "\n",
    "\n",
    "$$U^{2^{j}}|\\psi \\rangle =U^{2^{j}-1}U|\\psi \\rangle =U^{2^{j}-1}e^{2\\pi i\\theta }|\\psi \\rangle =\\cdots =e^{2\\pi i2^{j}\\theta }|\\psi \\rangle$$\n",
    "\n",
    "\n",
    "\n",
    "Applying all the $n$ controlled operations $C − U^{2^j}$ with $0\\leq j\\leq n-1$, and using the relation $|0\\rangle \\otimes |\\psi \\rangle +|1\\rangle \\otimes e^{2\\pi i\\theta }|\\psi \\rangle =\\left(|0\\rangle +e^{2\\pi i\\theta }|1\\rangle \\right)\\otimes |\\psi \\rangle$:\n",
    "\n",
    "\\begin{aligned}\n",
    "\\psi_{2} & =\\frac {1}{2^{\\frac {n}{2}}} \\left(|0\\rangle+{e^{\\boldsymbol{2\\pi i} \\theta 2^{n-1}}}|1\\rangle \\right) \\otimes \\cdots \\otimes \\left(|0\\rangle+{e^{\\boldsymbol{2\\pi i} \\theta 2^{1}}}\\vert1\\rangle \\right) \\otimes \\left(|0\\rangle+{e^{\\boldsymbol{2\\pi i} \\theta 2^{0}}}\\vert1\\rangle \\right) \\otimes |\\psi\\rangle\\\\\\\\\n",
    "& = \\frac{1}{2^{\\frac {n}{2}}}\\sum _{k=0}^{2^{n}-1}e^{\\boldsymbol{2\\pi i} \\theta k}|k\\rangle \\otimes \\vert\\psi\\rangle\n",
    "\\end{aligned}\n",
    "where $k$ denotes the integer representation of n-bit binary numbers. \n",
    "\n",
    "iv. **Inverse Fourier Transform**: Notice that the above expression is exactly the result of applying a quantum Fourier transform as we derived in the notebook on [Quantum Fourier Transform and its Qiskit Implementation](qft.ipynb). Recall that QFT maps an n-qubit input state $\\vert x\\rangle$ into an output as\n",
    "\n",
    "$$\n",
    "QFT\\vert x \\rangle = \\frac{1}{2^\\frac{n}{2}}\n",
    "\\left(\\vert0\\rangle + e^{\\frac{2\\pi i}{2}x} \\vert1\\rangle\\right) \n",
    "\\otimes\n",
    "\\left(\\vert0\\rangle + e^{\\frac{2\\pi i}{2^2}x} \\vert1\\rangle\\right) \n",
    "\\otimes  \n",
    "\\ldots\n",
    "\\otimes\n",
    "\\left(\\vert0\\rangle + e^{\\frac{2\\pi i}{2^{n-1}}x} \\vert1\\rangle\\right) \n",
    "\\otimes\n",
    "\\left(\\vert0\\rangle + e^{\\frac{2\\pi i}{2^n}x} \\vert1\\rangle\\right) \n",
    "$$\n",
    "\n",
    "Replacing $x$ by $2^n\\theta$ in the above expression gives exactly the expression derived in step 2 above. Therefore, to recover the state $\\vert2^n\\theta\\rangle$, apply an inverse Fourier transform on the ancilla register. Doing so, we find\n",
    "\n",
    "$$\n",
    "\\vert\\psi_3\\rangle = \\frac {1}{2^{\\frac {n}{2}}}\\sum _{k=0}^{2^{n}-1}e^{\\boldsymbol{2\\pi i} \\theta k}|k\\rangle \\otimes | \\psi \\rangle \\xrightarrow{\\mathcal{QFT}_n^{-1}} \\frac {1}{2^n}\\sum _{x=0}^{2^{n}-1}\\sum _{k=0}^{2^{n}-1} e^{-\\frac{2\\pi i k}{2^n}(x - 2^n \\theta)} |x\\rangle \\otimes |\\psi\\rangle\n",
    "$$ \n",
    "\n",
    "v. **Measurement**: \n",
    "The above expression peaks near $x = 2^n\\theta$. For the case when $2^n\\theta$ is an integer, measuring in the computational basis gives the phase in the ancilla register with high probability: \n",
    "\n",
    "\n",
    "\n",
    "$$ |\\psi_4\\rangle = | 2^n \\theta \\rangle \\otimes | \\psi \\rangle$$\n",
    "\n",
    "\n",
    "\n",
    "For the case when $2^n\\theta$ is not an integer, it can be shown that the above expression still peaks near $x = 2^n\\theta$ with probability better than $4/\\pi^2 \\approx 40\\%$ [1]."
   ]
  },
  {
   "cell_type": "markdown",
   "metadata": {},
   "source": [
    "## 2. Example: T-gate <a id='example_t_gate'></a>"
   ]
  },
  {
   "cell_type": "markdown",
   "metadata": {},
   "source": [
    "Let’s take a gate we know well, the $T$-gate, and use Quantum Phase Estimation to estimate its phase. You will remember that the $T$-gate adds a phase of $e^\\frac{i\\pi}{4}$ to the state $|1\\rangle$:\n",
    "\n",
    "$$ T|1\\rangle = \n",
    "\\begin{bmatrix}\n",
    "1 & 0\\\\\n",
    "0 & e^\\frac{i\\pi}{4}\\\\ \n",
    "\\end{bmatrix}\n",
    "\\begin{bmatrix}\n",
    "0\\\\\n",
    "1\\\\ \n",
    "\\end{bmatrix}\n",
    "= e^\\frac{i\\pi}{4}|1\\rangle $$\n",
    "\n",
    "Since QPE will give us $\\theta$ where:\n",
    "\n",
    "\n",
    "\n",
    "$$ T|1\\rangle = e^{2i\\pi\\theta}|1\\rangle $$\n",
    "\n",
    "\n",
    "\n",
    "We expect to find:\n",
    "\n",
    "\n",
    "\n",
    "$$\\theta = \\frac{1}{8}$$\n",
    "\n",
    "\n",
    "\n",
    "In this example we will use three qubits and obtain an _exact_ result (not an estimation!)"
   ]
  },
  {
   "cell_type": "markdown",
   "metadata": {},
   "source": [
    "### 2.1 Creating the Circuit <a id='creating_the_circuit'></a>\n",
    "Let's first prepare our environment:"
   ]
  },
  {
   "cell_type": "code",
   "execution_count": 1,
   "metadata": {},
   "outputs": [],
   "source": [
    "#initialization\n",
    "import matplotlib.pyplot as plt\n",
    "import numpy as np\n",
    "import math\n",
    "\n",
    "# importing Qiskit\n",
    "from qiskit import IBMQ, Aer\n",
    "from qiskit import QuantumCircuit, ClassicalRegister, QuantumRegister, execute\n",
    "\n",
    "# import basic plot tools\n",
    "from qiskit.visualization import plot_histogram"
   ]
  },
  {
   "cell_type": "markdown",
   "metadata": {},
   "source": [
    "Now, set up the quantum circuit. We will use four qubits -- qubits 0 to 2 as counting qubits, and qubit 3 as the eigenstate of the unitary operator ($T$). \n",
    "\n",
    "We initialize $\\vert\\psi\\rangle = \\vert1\\rangle$ by applying an $X$ gate:"
   ]
  },
  {
   "cell_type": "code",
   "execution_count": 2,
   "metadata": {},
   "outputs": [
    {
     "data": {
      "text/html": [
       "<pre style=\"word-wrap: normal;white-space: pre;background: #fff0;line-height: 1.1;font-family: &quot;Courier New&quot;,Courier,monospace\">          \n",
       "q_0: ─────\n",
       "          \n",
       "q_1: ─────\n",
       "          \n",
       "q_2: ─────\n",
       "     ┌───┐\n",
       "q_3: ┤ X ├\n",
       "     └───┘\n",
       "c_0: ═════\n",
       "          \n",
       "c_1: ═════\n",
       "          \n",
       "c_2: ═════\n",
       "          </pre>"
      ],
      "text/plain": [
       "          \n",
       "q_0: ─────\n",
       "          \n",
       "q_1: ─────\n",
       "          \n",
       "q_2: ─────\n",
       "     ┌───┐\n",
       "q_3: ┤ X ├\n",
       "     └───┘\n",
       "c_0: ═════\n",
       "          \n",
       "c_1: ═════\n",
       "          \n",
       "c_2: ═════\n",
       "          "
      ]
     },
     "execution_count": 2,
     "metadata": {},
     "output_type": "execute_result"
    }
   ],
   "source": [
    "qpe = QuantumCircuit(4, 3)\n",
    "qpe.x(3)\n",
    "qpe.draw()"
   ]
  },
  {
   "cell_type": "markdown",
   "metadata": {},
   "source": [
    "Next, we apply Hadamard gates to the counting qubits:"
   ]
  },
  {
   "cell_type": "code",
   "execution_count": 3,
   "metadata": {},
   "outputs": [
    {
     "data": {
      "text/html": [
       "<pre style=\"word-wrap: normal;white-space: pre;background: #fff0;line-height: 1.1;font-family: &quot;Courier New&quot;,Courier,monospace\">     ┌───┐\n",
       "q_0: ┤ H ├\n",
       "     ├───┤\n",
       "q_1: ┤ H ├\n",
       "     ├───┤\n",
       "q_2: ┤ H ├\n",
       "     ├───┤\n",
       "q_3: ┤ X ├\n",
       "     └───┘\n",
       "c_0: ═════\n",
       "          \n",
       "c_1: ═════\n",
       "          \n",
       "c_2: ═════\n",
       "          </pre>"
      ],
      "text/plain": [
       "     ┌───┐\n",
       "q_0: ┤ H ├\n",
       "     ├───┤\n",
       "q_1: ┤ H ├\n",
       "     ├───┤\n",
       "q_2: ┤ H ├\n",
       "     ├───┤\n",
       "q_3: ┤ X ├\n",
       "     └───┘\n",
       "c_0: ═════\n",
       "          \n",
       "c_1: ═════\n",
       "          \n",
       "c_2: ═════\n",
       "          "
      ]
     },
     "execution_count": 3,
     "metadata": {},
     "output_type": "execute_result"
    }
   ],
   "source": [
    "for qubit in range(3):\n",
    "    qpe.h(qubit)\n",
    "qpe.draw()"
   ]
  },
  {
   "cell_type": "markdown",
   "metadata": {},
   "source": [
    "Next we perform the controlled unitary operations. **Remember:** Qiskit orders its qubits the opposite way round to the image above."
   ]
  },
  {
   "cell_type": "code",
   "execution_count": 4,
   "metadata": {},
   "outputs": [
    {
     "data": {
      "text/html": [
       "<pre style=\"word-wrap: normal;white-space: pre;background: #fff0;line-height: 1.1;font-family: &quot;Courier New&quot;,Courier,monospace\">     ┌───┐                                                 \n",
       "q_0: ┤ H ├─■───────────────────────────────────────────────\n",
       "     ├───┤ │                                               \n",
       "q_1: ┤ H ├─┼──────■──────■─────────────────────────────────\n",
       "     ├───┤ │      │      │                                 \n",
       "q_2: ┤ H ├─┼──────┼──────┼──────■──────■──────■──────■─────\n",
       "     ├───┤ │pi/4  │pi/4  │pi/4  │pi/4  │pi/4  │pi/4  │pi/4 \n",
       "q_3: ┤ X ├─■──────■──────■──────■──────■──────■──────■─────\n",
       "     └───┘                                                 \n",
       "c_0: ══════════════════════════════════════════════════════\n",
       "                                                           \n",
       "c_1: ══════════════════════════════════════════════════════\n",
       "                                                           \n",
       "c_2: ══════════════════════════════════════════════════════\n",
       "                                                           </pre>"
      ],
      "text/plain": [
       "     ┌───┐                                                 \n",
       "q_0: ┤ H ├─■───────────────────────────────────────────────\n",
       "     ├───┤ │                                               \n",
       "q_1: ┤ H ├─┼──────■──────■─────────────────────────────────\n",
       "     ├───┤ │      │      │                                 \n",
       "q_2: ┤ H ├─┼──────┼──────┼──────■──────■──────■──────■─────\n",
       "     ├───┤ │pi/4  │pi/4  │pi/4  │pi/4  │pi/4  │pi/4  │pi/4 \n",
       "q_3: ┤ X ├─■──────■──────■──────■──────■──────■──────■─────\n",
       "     └───┘                                                 \n",
       "c_0: ══════════════════════════════════════════════════════\n",
       "                                                           \n",
       "c_1: ══════════════════════════════════════════════════════\n",
       "                                                           \n",
       "c_2: ══════════════════════════════════════════════════════\n",
       "                                                           "
      ]
     },
     "execution_count": 4,
     "metadata": {},
     "output_type": "execute_result"
    }
   ],
   "source": [
    "repetitions = 1\n",
    "for counting_qubit in range(3):\n",
    "    for i in range(repetitions):\n",
    "        qpe.cu1(math.pi/4, counting_qubit, 3); # This is C-U\n",
    "    repetitions *= 2\n",
    "qpe.draw()"
   ]
  },
  {
   "cell_type": "markdown",
   "metadata": {},
   "source": [
    "We apply the inverse quantum Fourier transformation to convert the state of the counting register. Here we provide the code for $QFT^\\dagger$:"
   ]
  },
  {
   "cell_type": "code",
   "execution_count": 5,
   "metadata": {},
   "outputs": [],
   "source": [
    "def qft_dagger(circ, n):\n",
    "    \"\"\"n-qubit QFTdagger the first n qubits in circ\"\"\"\n",
    "    # Don't forget the Swaps!\n",
    "    for qubit in range(n//2):\n",
    "        circ.swap(qubit, n-qubit-1)\n",
    "    for j in range(n):\n",
    "        for m in range(j):\n",
    "            circ.cu1(-math.pi/float(2**(j-m)), m, j)\n",
    "        circ.h(j)"
   ]
  },
  {
   "cell_type": "markdown",
   "metadata": {},
   "source": [
    "We then measure the counting register:"
   ]
  },
  {
   "cell_type": "code",
   "execution_count": 6,
   "metadata": {},
   "outputs": [],
   "source": [
    "qpe.barrier()\n",
    "# Apply inverse QFT\n",
    "qft_dagger(qpe, 3)\n",
    "# Measure\n",
    "qpe.barrier()\n",
    "for n in range(3):\n",
    "    qpe.measure(n,n)"
   ]
  },
  {
   "cell_type": "code",
   "execution_count": 7,
   "metadata": {
    "scrolled": false
   },
   "outputs": [
    {
     "data": {
      "text/html": [
       "<pre style=\"word-wrap: normal;white-space: pre;background: #fff0;line-height: 1.1;font-family: &quot;Courier New&quot;,Courier,monospace\">     ┌───┐                                                  ░    ┌───┐        »\n",
       "q_0: ┤ H ├─■────────────────────────────────────────────────░──X─┤ H ├─■──────»\n",
       "     ├───┤ │                                                ░  │ └───┘ │-pi/2 »\n",
       "q_1: ┤ H ├─┼──────■──────■──────────────────────────────────░──┼───────■──────»\n",
       "     ├───┤ │      │      │                                  ░  │              »\n",
       "q_2: ┤ H ├─┼──────┼──────┼──────■──────■──────■──────■──────░──X──────────────»\n",
       "     ├───┤ │pi/4  │pi/4  │pi/4  │pi/4  │pi/4  │pi/4  │pi/4  ░                 »\n",
       "q_3: ┤ X ├─■──────■──────■──────■──────■──────■──────■──────░─────────────────»\n",
       "     └───┘                                                  ░                 »\n",
       "c_0: ═════════════════════════════════════════════════════════════════════════»\n",
       "                                                                              »\n",
       "c_1: ═════════════════════════════════════════════════════════════════════════»\n",
       "                                                                              »\n",
       "c_2: ═════════════════════════════════════════════════════════════════════════»\n",
       "                                                                              »\n",
       "«                                ░ ┌─┐      \n",
       "«q_0: ──────■────────────────────░─┤M├──────\n",
       "«     ┌───┐ │                    ░ └╥┘┌─┐   \n",
       "«q_1: ┤ H ├─┼───────■────────────░──╫─┤M├───\n",
       "«     └───┘ │-pi/4  │-pi/2 ┌───┐ ░  ║ └╥┘┌─┐\n",
       "«q_2: ──────■───────■──────┤ H ├─░──╫──╫─┤M├\n",
       "«                          └───┘ ░  ║  ║ └╥┘\n",
       "«q_3: ───────────────────────────░──╫──╫──╫─\n",
       "«                                ░  ║  ║  ║ \n",
       "«c_0: ══════════════════════════════╩══╬══╬═\n",
       "«                                      ║  ║ \n",
       "«c_1: ═════════════════════════════════╩══╬═\n",
       "«                                         ║ \n",
       "«c_2: ════════════════════════════════════╩═\n",
       "«                                           </pre>"
      ],
      "text/plain": [
       "     ┌───┐                                                  ░    ┌───┐        »\n",
       "q_0: ┤ H ├─■────────────────────────────────────────────────░──X─┤ H ├─■──────»\n",
       "     ├───┤ │                                                ░  │ └───┘ │-pi/2 »\n",
       "q_1: ┤ H ├─┼──────■──────■──────────────────────────────────░──┼───────■──────»\n",
       "     ├───┤ │      │      │                                  ░  │              »\n",
       "q_2: ┤ H ├─┼──────┼──────┼──────■──────■──────■──────■──────░──X──────────────»\n",
       "     ├───┤ │pi/4  │pi/4  │pi/4  │pi/4  │pi/4  │pi/4  │pi/4  ░                 »\n",
       "q_3: ┤ X ├─■──────■──────■──────■──────■──────■──────■──────░─────────────────»\n",
       "     └───┘                                                  ░                 »\n",
       "c_0: ═════════════════════════════════════════════════════════════════════════»\n",
       "                                                                              »\n",
       "c_1: ═════════════════════════════════════════════════════════════════════════»\n",
       "                                                                              »\n",
       "c_2: ═════════════════════════════════════════════════════════════════════════»\n",
       "                                                                              »\n",
       "«                                ░ ┌─┐      \n",
       "«q_0: ──────■────────────────────░─┤M├──────\n",
       "«     ┌───┐ │                    ░ └╥┘┌─┐   \n",
       "«q_1: ┤ H ├─┼───────■────────────░──╫─┤M├───\n",
       "«     └───┘ │-pi/4  │-pi/2 ┌───┐ ░  ║ └╥┘┌─┐\n",
       "«q_2: ──────■───────■──────┤ H ├─░──╫──╫─┤M├\n",
       "«                          └───┘ ░  ║  ║ └╥┘\n",
       "«q_3: ───────────────────────────░──╫──╫──╫─\n",
       "«                                ░  ║  ║  ║ \n",
       "«c_0: ══════════════════════════════╩══╬══╬═\n",
       "«                                      ║  ║ \n",
       "«c_1: ═════════════════════════════════╩══╬═\n",
       "«                                         ║ \n",
       "«c_2: ════════════════════════════════════╩═\n",
       "«                                           "
      ]
     },
     "execution_count": 7,
     "metadata": {},
     "output_type": "execute_result"
    }
   ],
   "source": [
    "qpe.draw()"
   ]
  },
  {
   "cell_type": "markdown",
   "metadata": {},
   "source": [
    "### 2.2 Results <a id='results'></a>"
   ]
  },
  {
   "cell_type": "code",
   "execution_count": 8,
   "metadata": {},
   "outputs": [
    {
     "data": {
      "image/png": "[encoded data removed]",
      "text/plain": [
       "<Figure size 504x360 with 1 Axes>"
      ]
     },
     "execution_count": 8,
     "metadata": {},
     "output_type": "execute_result"
    }
   ],
   "source": [
    "backend = Aer.get_backend('qasm_simulator')\n",
    "shots = 2048\n",
    "results = execute(qpe, backend=backend, shots=shots).result()\n",
    "answer = results.get_counts()\n",
    "\n",
    "plot_histogram(answer)"
   ]
  },
  {
   "cell_type": "markdown",
   "metadata": {},
   "source": [
    "We see we get one result (`001`) with certainty, which translates to the decimal: `1`. We now need to divide our result (`1`) by $2^n$ to get $\\theta$:\n",
    "\n",
    "\n",
    "\n",
    "$$ \\theta = \\frac{1}{2^3} = \\frac{1}{8} $$\n",
    "\n",
    "\n",
    "\n",
    "This is exactly the result we expected!"
   ]
  },
  {
   "cell_type": "markdown",
   "metadata": {},
   "source": [
    "## 3. Example: Getting More Precision <a id='getting_more_precision'></a>\n",
    "### 3.1 The Problem <a id='the_problem'></a>\n",
    "\n",
    "Instead of a $T$-gate, let’s use a gate with $\\theta = \\frac{1}{3}$. We set up our circuit as with the last example:"
   ]
  },
  {
   "cell_type": "code",
   "execution_count": 9,
   "metadata": {},
   "outputs": [
    {
     "data": {
      "text/html": [
       "<pre style=\"word-wrap: normal;white-space: pre;background: #fff0;line-height: 1.1;font-family: &quot;Courier New&quot;,Courier,monospace\">     ┌───┐                                                           ┌───┐»\n",
       "q_0: ┤ H ├─■───────────────────────────────────────────────────────X─┤ H ├»\n",
       "     ├───┤ │                                                       │ └───┘»\n",
       "q_1: ┤ H ├─┼───────■───────■───────────────────────────────────────┼──────»\n",
       "     ├───┤ │       │       │                                       │      »\n",
       "q_2: ┤ H ├─┼───────┼───────┼───────■───────■───────■───────■───────X──────»\n",
       "     ├───┤ │2pi/3  │2pi/3  │2pi/3  │2pi/3  │2pi/3  │2pi/3  │2pi/3         »\n",
       "q_3: ┤ X ├─■───────■───────■───────■───────■───────■───────■──────────────»\n",
       "     └───┘                                                                »\n",
       "c_0: ═════════════════════════════════════════════════════════════════════»\n",
       "                                                                          »\n",
       "c_1: ═════════════════════════════════════════════════════════════════════»\n",
       "                                                                          »\n",
       "c_2: ═════════════════════════════════════════════════════════════════════»\n",
       "                                                                          »\n",
       "«                                  ┌─┐           \n",
       "«q_0: ─■────────────■──────────────┤M├───────────\n",
       "«      │-pi/2 ┌───┐ │              └╥┘     ┌─┐   \n",
       "«q_1: ─■──────┤ H ├─┼───────■───────╫──────┤M├───\n",
       "«             └───┘ │-pi/4  │-pi/2  ║ ┌───┐└╥┘┌─┐\n",
       "«q_2: ──────────────■───────■───────╫─┤ H ├─╫─┤M├\n",
       "«                                   ║ └───┘ ║ └╥┘\n",
       "«q_3: ──────────────────────────────╫───────╫──╫─\n",
       "«                                   ║       ║  ║ \n",
       "«c_0: ══════════════════════════════╩═══════╬══╬═\n",
       "«                                           ║  ║ \n",
       "«c_1: ══════════════════════════════════════╩══╬═\n",
       "«                                              ║ \n",
       "«c_2: ═════════════════════════════════════════╩═\n",
       "«                                                </pre>"
      ],
      "text/plain": [
       "     ┌───┐                                                           ┌───┐»\n",
       "q_0: ┤ H ├─■───────────────────────────────────────────────────────X─┤ H ├»\n",
       "     ├───┤ │                                                       │ └───┘»\n",
       "q_1: ┤ H ├─┼───────■───────■───────────────────────────────────────┼──────»\n",
       "     ├───┤ │       │       │                                       │      »\n",
       "q_2: ┤ H ├─┼───────┼───────┼───────■───────■───────■───────■───────X──────»\n",
       "     ├───┤ │2pi/3  │2pi/3  │2pi/3  │2pi/3  │2pi/3  │2pi/3  │2pi/3         »\n",
       "q_3: ┤ X ├─■───────■───────■───────■───────■───────■───────■──────────────»\n",
       "     └───┘                                                                »\n",
       "c_0: ═════════════════════════════════════════════════════════════════════»\n",
       "                                                                          »\n",
       "c_1: ═════════════════════════════════════════════════════════════════════»\n",
       "                                                                          »\n",
       "c_2: ═════════════════════════════════════════════════════════════════════»\n",
       "                                                                          »\n",
       "«                                  ┌─┐           \n",
       "«q_0: ─■────────────■──────────────┤M├───────────\n",
       "«      │-pi/2 ┌───┐ │              └╥┘     ┌─┐   \n",
       "«q_1: ─■──────┤ H ├─┼───────■───────╫──────┤M├───\n",
       "«             └───┘ │-pi/4  │-pi/2  ║ ┌───┐└╥┘┌─┐\n",
       "«q_2: ──────────────■───────■───────╫─┤ H ├─╫─┤M├\n",
       "«                                   ║ └───┘ ║ └╥┘\n",
       "«q_3: ──────────────────────────────╫───────╫──╫─\n",
       "«                                   ║       ║  ║ \n",
       "«c_0: ══════════════════════════════╩═══════╬══╬═\n",
       "«                                           ║  ║ \n",
       "«c_1: ══════════════════════════════════════╩══╬═\n",
       "«                                              ║ \n",
       "«c_2: ═════════════════════════════════════════╩═\n",
       "«                                                "
      ]
     },
     "execution_count": 9,
     "metadata": {},
     "output_type": "execute_result"
    }
   ],
   "source": [
    "# Create and set up circuit\n",
    "qpe2 = QuantumCircuit(4, 3)\n",
    "\n",
    "# Apply H-Gates to counting qubits:\n",
    "for qubit in range(3):\n",
    "    qpe2.h(qubit)\n",
    "\n",
    "# Prepare our eigenstate |psi>:\n",
    "qpe2.x(3)\n",
    "\n",
    "# Do the controlled-U operations:\n",
    "angle = 2*math.pi/3\n",
    "repetitions = 1\n",
    "for counting_qubit in range(3):\n",
    "    for i in range(repetitions):\n",
    "        qpe2.cu1(angle, counting_qubit, 3);\n",
    "    repetitions *= 2\n",
    "\n",
    "# Do the inverse QFT:\n",
    "qft_dagger(qpe2, 3)\n",
    "\n",
    "# Measure of course!\n",
    "for n in range(3):\n",
    "    qpe2.measure(n,n)\n",
    "\n",
    "qpe2.draw()"
   ]
  },
  {
   "cell_type": "code",
   "execution_count": 10,
   "metadata": {},
   "outputs": [
    {
     "data": {
      "image/png": "[encoded data removed]",
      "text/plain": [
       "<Figure size 504x360 with 1 Axes>"
      ]
     },
     "execution_count": 10,
     "metadata": {},
     "output_type": "execute_result"
    }
   ],
   "source": [
    "# Let's see the results!\n",
    "backend = Aer.get_backend('qasm_simulator')\n",
    "shots = 4096\n",
    "results = execute(qpe2, backend=backend, shots=shots).result()\n",
    "answer = results.get_counts()\n",
    "\n",
    "plot_histogram(answer)"
   ]
  },
  {
   "cell_type": "markdown",
   "metadata": {},
   "source": [
    "We are expecting the result $\\theta = 0.3333\\dots$, and we see our most likely results are `010(bin) = 2(dec)` and `011(bin) = 3(dec)`. These two results would tell us that $\\theta = 0.25$ (off by 25%) and $\\theta = 0.375$ (off by 13%) respectively. The true value of $\\theta$ lies between the values we can get from our counting bits, and this gives us uncertainty and imprecision.\n",
    "\n",
    "### 3.2 The Solution <a id='the_solution'></a>\n",
    "To get more precision we simply add more counting qubits. We are going to add two more counting qubits:"
   ]
  },
  {
   "cell_type": "code",
   "execution_count": 32,
   "metadata": {
    "scrolled": false
   },
   "outputs": [
    {
     "data": {
      "text/html": [
       "<pre style=\"word-wrap: normal;white-space: pre;background: #fff0;line-height: 1.1;font-family: &quot;Courier New&quot;,Courier,monospace\">     ┌───┐                                                                »\n",
       "q_0: ┤ H ├─■──────────────────────────────────────────────────────────────»\n",
       "     ├───┤ │                                                              »\n",
       "q_1: ┤ H ├─┼───────■───────■──────────────────────────────────────────────»\n",
       "     ├───┤ │       │       │                                              »\n",
       "q_2: ┤ H ├─┼───────┼───────┼───────■───────■───────■───────■──────────────»\n",
       "     ├───┤ │       │       │       │       │       │       │              »\n",
       "q_3: ┤ H ├─┼───────┼───────┼───────┼───────┼───────┼───────┼───────■──────»\n",
       "     ├───┤ │       │       │       │       │       │       │       │      »\n",
       "q_4: ┤ H ├─┼───────┼───────┼───────┼───────┼───────┼───────┼───────┼──────»\n",
       "     ├───┤ │2pi/3  │2pi/3  │2pi/3  │2pi/3  │2pi/3  │2pi/3  │2pi/3  │2pi/3 »\n",
       "q_5: ┤ X ├─■───────■───────■───────■───────■───────■───────■───────■──────»\n",
       "     └───┘                                                                »\n",
       "c_0: ═════════════════════════════════════════════════════════════════════»\n",
       "                                                                          »\n",
       "c_1: ═════════════════════════════════════════════════════════════════════»\n",
       "                                                                          »\n",
       "c_2: ═════════════════════════════════════════════════════════════════════»\n",
       "                                                                          »\n",
       "c_3: ═════════════════════════════════════════════════════════════════════»\n",
       "                                                                          »\n",
       "c_4: ═════════════════════════════════════════════════════════════════════»\n",
       "                                                                          »\n",
       "«                                                                          »\n",
       "«q_0: ─────────────────────────────────────────────────────────────────────»\n",
       "«                                                                          »\n",
       "«q_1: ──────────────────────────────────────────────────────────────X──────»\n",
       "«                                                                   │      »\n",
       "«q_2: ──────────────────────────────────────────────────────────────┼──────»\n",
       "«                                                                   │      »\n",
       "«q_3: ─■───────■───────■───────■───────■───────■───────■────────────X──────»\n",
       "«      │       │       │       │       │       │       │                   »\n",
       "«q_4: ─┼───────┼───────┼───────┼───────┼───────┼───────┼───────■───────────»\n",
       "«      │2pi/3  │2pi/3  │2pi/3  │2pi/3  │2pi/3  │2pi/3  │2pi/3  │2pi/2pi/3  »\n",
       "«q_5: ─■───────■───────■───────■───────■───────■───────■───────■───────────»\n",
       "«                                                                          »\n",
       "«c_0: ═════════════════════════════════════════════════════════════════════»\n",
       "«                                                                          »\n",
       "«c_1: ═════════════════════════════════════════════════════════════════════»\n",
       "«                                                                          »\n",
       "«c_2: ═════════════════════════════════════════════════════════════════════»\n",
       "«                                                                          »\n",
       "«c_3: ═════════════════════════════════════════════════════════════════════»\n",
       "«                                                                          »\n",
       "«c_4: ═════════════════════════════════════════════════════════════════════»\n",
       "«                                                                          »\n",
       "«                                                                             »\n",
       "«q_0: ────────────────────────────────────────────────────────────────────────»\n",
       "«                                                                             »\n",
       "«q_1: ────────────────────────────────────────────────────────────────────────»\n",
       "«                                                                             »\n",
       "«q_2: ────────────────────────────────────────────────────────────────────────»\n",
       "«                                                                             »\n",
       "«q_3: ────────────────────────────────────────────────────────────────────────»\n",
       "«                                                                             »\n",
       "«q_4: ─■───────■───────■───────■───────■───────■───────■───────■───────■──────»\n",
       "«      │2pi/3  │2pi/3  │2pi/3  │2pi/3  │2pi/3  │2pi/3  │2pi/3  │2pi/3  │2pi/3 »\n",
       "«q_5: ─■───────■───────■───────■───────■───────■───────■───────■───────■──────»\n",
       "«                                                                             »\n",
       "«c_0: ════════════════════════════════════════════════════════════════════════»\n",
       "«                                                                             »\n",
       "«c_1: ════════════════════════════════════════════════════════════════════════»\n",
       "«                                                                             »\n",
       "«c_2: ════════════════════════════════════════════════════════════════════════»\n",
       "«                                                                             »\n",
       "«c_3: ════════════════════════════════════════════════════════════════════════»\n",
       "«                                                                             »\n",
       "«c_4: ════════════════════════════════════════════════════════════════════════»\n",
       "«                                                                             »\n",
       "«                                                        ┌───┐             »\n",
       "«q_0: ─────────────────────────────────────────────────X─┤ H ├─■───────────»\n",
       "«                                                      │ └───┘ │-pi/2 ┌───┐»\n",
       "«q_1: ─────────────────────────────────────────────────┼───────■──────┤ H ├»\n",
       "«                                                      │              └───┘»\n",
       "«q_2: ─────────────────────────────────────────────────┼───────────────────»\n",
       "«                                                      │                   »\n",
       "«q_3: ─────────────────────────────────────────────────┼───────────────────»\n",
       "«                                                      │                   »\n",
       "«q_4: ─■───────■───────■───────■───────■───────■───────X───────────────────»\n",
       "«      │2pi/3  │2pi/3  │2pi/3  │2pi/3  │2pi/3  │2pi/3                      »\n",
       "«q_5: ─■───────■───────■───────■───────■───────■───────────────────────────»\n",
       "«                                                                          »\n",
       "«c_0: ═════════════════════════════════════════════════════════════════════»\n",
       "«                                                                          »\n",
       "«c_1: ═════════════════════════════════════════════════════════════════════»\n",
       "«                                                                          »\n",
       "«c_2: ═════════════════════════════════════════════════════════════════════»\n",
       "«                                                                          »\n",
       "«c_3: ═════════════════════════════════════════════════════════════════════»\n",
       "«                                                                          »\n",
       "«c_4: ═════════════════════════════════════════════════════════════════════»\n",
       "«                                                                          »\n",
       "«                                                                        »\n",
       "«q_0: ─■───────────────■────────────────────■────────────────────────────»\n",
       "«      │               │                    │                            »\n",
       "«q_1: ─┼───────■───────┼────────────■───────┼────────────────■───────────»\n",
       "«      │-pi/4  │-pi/2  │      ┌───┐ │       │                │           »\n",
       "«q_2: ─■───────■───────┼──────┤ H ├─┼───────┼────────■───────┼───────────»\n",
       "«                      │-pi/8 └───┘ │-pi/4  │        │-pi/2  │      ┌───┐»\n",
       "«q_3: ─────────────────■────────────■───────┼────────■───────┼──────┤ H ├»\n",
       "«                                           │-pi/16          │-pi/8 └───┘»\n",
       "«q_4: ──────────────────────────────────────■────────────────■───────────»\n",
       "«                                                                        »\n",
       "«q_5: ───────────────────────────────────────────────────────────────────»\n",
       "«                                                                        »\n",
       "«c_0: ═══════════════════════════════════════════════════════════════════»\n",
       "«                                                                        »\n",
       "«c_1: ═══════════════════════════════════════════════════════════════════»\n",
       "«                                                                        »\n",
       "«c_2: ═══════════════════════════════════════════════════════════════════»\n",
       "«                                                                        »\n",
       "«c_3: ═══════════════════════════════════════════════════════════════════»\n",
       "«                                                                        »\n",
       "«c_4: ═══════════════════════════════════════════════════════════════════»\n",
       "«                                                                        »\n",
       "«                           ░ ┌─┐            \n",
       "«q_0: ──────────────────────░─┤M├────────────\n",
       "«                           ░ └╥┘┌─┐         \n",
       "«q_1: ──────────────────────░──╫─┤M├─────────\n",
       "«                           ░  ║ └╥┘┌─┐      \n",
       "«q_2: ─■────────────────────░──╫──╫─┤M├──────\n",
       "«      │                    ░  ║  ║ └╥┘┌─┐   \n",
       "«q_3: ─┼───────■────────────░──╫──╫──╫─┤M├───\n",
       "«      │-pi/4  │-pi/2 ┌───┐ ░  ║  ║  ║ └╥┘┌─┐\n",
       "«q_4: ─■───────■──────┤ H ├─░──╫──╫──╫──╫─┤M├\n",
       "«                     └───┘ ░  ║  ║  ║  ║ └╥┘\n",
       "«q_5: ──────────────────────░──╫──╫──╫──╫──╫─\n",
       "«                           ░  ║  ║  ║  ║  ║ \n",
       "«c_0: ═════════════════════════╩══╬══╬══╬══╬═\n",
       "«                                 ║  ║  ║  ║ \n",
       "«c_1: ════════════════════════════╩══╬══╬══╬═\n",
       "«                                    ║  ║  ║ \n",
       "«c_2: ═══════════════════════════════╩══╬══╬═\n",
       "«                                       ║  ║ \n",
       "«c_3: ══════════════════════════════════╩══╬═\n",
       "«                                          ║ \n",
       "«c_4: ═════════════════════════════════════╩═\n",
       "«                                            </pre>"
      ],
      "text/plain": [
       "     ┌───┐                                                                »\n",
       "q_0: ┤ H ├─■──────────────────────────────────────────────────────────────»\n",
       "     ├───┤ │                                                              »\n",
       "q_1: ┤ H ├─┼───────■───────■──────────────────────────────────────────────»\n",
       "     ├───┤ │       │       │                                              »\n",
       "q_2: ┤ H ├─┼───────┼───────┼───────■───────■───────■───────■──────────────»\n",
       "     ├───┤ │       │       │       │       │       │       │              »\n",
       "q_3: ┤ H ├─┼───────┼───────┼───────┼───────┼───────┼───────┼───────■──────»\n",
       "     ├───┤ │       │       │       │       │       │       │       │      »\n",
       "q_4: ┤ H ├─┼───────┼───────┼───────┼───────┼───────┼───────┼───────┼──────»\n",
       "     ├───┤ │2pi/3  │2pi/3  │2pi/3  │2pi/3  │2pi/3  │2pi/3  │2pi/3  │2pi/3 »\n",
       "q_5: ┤ X ├─■───────■───────■───────■───────■───────■───────■───────■──────»\n",
       "     └───┘                                                                »\n",
       "c_0: ═════════════════════════════════════════════════════════════════════»\n",
       "                                                                          »\n",
       "c_1: ═════════════════════════════════════════════════════════════════════»\n",
       "                                                                          »\n",
       "c_2: ═════════════════════════════════════════════════════════════════════»\n",
       "                                                                          »\n",
       "c_3: ═════════════════════════════════════════════════════════════════════»\n",
       "                                                                          »\n",
       "c_4: ═════════════════════════════════════════════════════════════════════»\n",
       "                                                                          »\n",
       "«                                                                          »\n",
       "«q_0: ─────────────────────────────────────────────────────────────────────»\n",
       "«                                                                          »\n",
       "«q_1: ──────────────────────────────────────────────────────────────X──────»\n",
       "«                                                                   │      »\n",
       "«q_2: ──────────────────────────────────────────────────────────────┼──────»\n",
       "«                                                                   │      »\n",
       "«q_3: ─■───────■───────■───────■───────■───────■───────■────────────X──────»\n",
       "«      │       │       │       │       │       │       │                   »\n",
       "«q_4: ─┼───────┼───────┼───────┼───────┼───────┼───────┼───────■───────────»\n",
       "«      │2pi/3  │2pi/3  │2pi/3  │2pi/3  │2pi/3  │2pi/3  │2pi/3  │2pi/2pi/3  »\n",
       "«q_5: ─■───────■───────■───────■───────■───────■───────■───────■───────────»\n",
       "«                                                                          »\n",
       "«c_0: ═════════════════════════════════════════════════════════════════════»\n",
       "«                                                                          »\n",
       "«c_1: ═════════════════════════════════════════════════════════════════════»\n",
       "«                                                                          »\n",
       "«c_2: ═════════════════════════════════════════════════════════════════════»\n",
       "«                                                                          »\n",
       "«c_3: ═════════════════════════════════════════════════════════════════════»\n",
       "«                                                                          »\n",
       "«c_4: ═════════════════════════════════════════════════════════════════════»\n",
       "«                                                                          »\n",
       "«                                                                             »\n",
       "«q_0: ────────────────────────────────────────────────────────────────────────»\n",
       "«                                                                             »\n",
       "«q_1: ────────────────────────────────────────────────────────────────────────»\n",
       "«                                                                             »\n",
       "«q_2: ────────────────────────────────────────────────────────────────────────»\n",
       "«                                                                             »\n",
       "«q_3: ────────────────────────────────────────────────────────────────────────»\n",
       "«                                                                             »\n",
       "«q_4: ─■───────■───────■───────■───────■───────■───────■───────■───────■──────»\n",
       "«      │2pi/3  │2pi/3  │2pi/3  │2pi/3  │2pi/3  │2pi/3  │2pi/3  │2pi/3  │2pi/3 »\n",
       "«q_5: ─■───────■───────■───────■───────■───────■───────■───────■───────■──────»\n",
       "«                                                                             »\n",
       "«c_0: ════════════════════════════════════════════════════════════════════════»\n",
       "«                                                                             »\n",
       "«c_1: ════════════════════════════════════════════════════════════════════════»\n",
       "«                                                                             »\n",
       "«c_2: ════════════════════════════════════════════════════════════════════════»\n",
       "«                                                                             »\n",
       "«c_3: ════════════════════════════════════════════════════════════════════════»\n",
       "«                                                                             »\n",
       "«c_4: ════════════════════════════════════════════════════════════════════════»\n",
       "«                                                                             »\n",
       "«                                                        ┌───┐             »\n",
       "«q_0: ─────────────────────────────────────────────────X─┤ H ├─■───────────»\n",
       "«                                                      │ └───┘ │-pi/2 ┌───┐»\n",
       "«q_1: ─────────────────────────────────────────────────┼───────■──────┤ H ├»\n",
       "«                                                      │              └───┘»\n",
       "«q_2: ─────────────────────────────────────────────────┼───────────────────»\n",
       "«                                                      │                   »\n",
       "«q_3: ─────────────────────────────────────────────────┼───────────────────»\n",
       "«                                                      │                   »\n",
       "«q_4: ─■───────■───────■───────■───────■───────■───────X───────────────────»\n",
       "«      │2pi/3  │2pi/3  │2pi/3  │2pi/3  │2pi/3  │2pi/3                      »\n",
       "«q_5: ─■───────■───────■───────■───────■───────■───────────────────────────»\n",
       "«                                                                          »\n",
       "«c_0: ═════════════════════════════════════════════════════════════════════»\n",
       "«                                                                          »\n",
       "«c_1: ═════════════════════════════════════════════════════════════════════»\n",
       "«                                                                          »\n",
       "«c_2: ═════════════════════════════════════════════════════════════════════»\n",
       "«                                                                          »\n",
       "«c_3: ═════════════════════════════════════════════════════════════════════»\n",
       "«                                                                          »\n",
       "«c_4: ═════════════════════════════════════════════════════════════════════»\n",
       "«                                                                          »\n",
       "«                                                                        »\n",
       "«q_0: ─■───────────────■────────────────────■────────────────────────────»\n",
       "«      │               │                    │                            »\n",
       "«q_1: ─┼───────■───────┼────────────■───────┼────────────────■───────────»\n",
       "«      │-pi/4  │-pi/2  │      ┌───┐ │       │                │           »\n",
       "«q_2: ─■───────■───────┼──────┤ H ├─┼───────┼────────■───────┼───────────»\n",
       "«                      │-pi/8 └───┘ │-pi/4  │        │-pi/2  │      ┌───┐»\n",
       "«q_3: ─────────────────■────────────■───────┼────────■───────┼──────┤ H ├»\n",
       "«                                           │-pi/16          │-pi/8 └───┘»\n",
       "«q_4: ──────────────────────────────────────■────────────────■───────────»\n",
       "«                                                                        »\n",
       "«q_5: ───────────────────────────────────────────────────────────────────»\n",
       "«                                                                        »\n",
       "«c_0: ═══════════════════════════════════════════════════════════════════»\n",
       "«                                                                        »\n",
       "«c_1: ═══════════════════════════════════════════════════════════════════»\n",
       "«                                                                        »\n",
       "«c_2: ═══════════════════════════════════════════════════════════════════»\n",
       "«                                                                        »\n",
       "«c_3: ═══════════════════════════════════════════════════════════════════»\n",
       "«                                                                        »\n",
       "«c_4: ═══════════════════════════════════════════════════════════════════»\n",
       "«                                                                        »\n",
       "«                           ░ ┌─┐            \n",
       "«q_0: ──────────────────────░─┤M├────────────\n",
       "«                           ░ └╥┘┌─┐         \n",
       "«q_1: ──────────────────────░──╫─┤M├─────────\n",
       "«                           ░  ║ └╥┘┌─┐      \n",
       "«q_2: ─■────────────────────░──╫──╫─┤M├──────\n",
       "«      │                    ░  ║  ║ └╥┘┌─┐   \n",
       "«q_3: ─┼───────■────────────░──╫──╫──╫─┤M├───\n",
       "«      │-pi/4  │-pi/2 ┌───┐ ░  ║  ║  ║ └╥┘┌─┐\n",
       "«q_4: ─■───────■──────┤ H ├─░──╫──╫──╫──╫─┤M├\n",
       "«                     └───┘ ░  ║  ║  ║  ║ └╥┘\n",
       "«q_5: ──────────────────────░──╫──╫──╫──╫──╫─\n",
       "«                           ░  ║  ║  ║  ║  ║ \n",
       "«c_0: ═════════════════════════╩══╬══╬══╬══╬═\n",
       "«                                 ║  ║  ║  ║ \n",
       "«c_1: ════════════════════════════╩══╬══╬══╬═\n",
       "«                                    ║  ║  ║ \n",
       "«c_2: ═══════════════════════════════╩══╬══╬═\n",
       "«                                       ║  ║ \n",
       "«c_3: ══════════════════════════════════╩══╬═\n",
       "«                                          ║ \n",
       "«c_4: ═════════════════════════════════════╩═\n",
       "«                                            "
      ]
     },
     "execution_count": 32,
     "metadata": {},
     "output_type": "execute_result"
    }
   ],
   "source": [
    "# Create and set up circuit\n",
    "N = 5\n",
    "qpe3 = QuantumCircuit(N + 1, N)\n",
    "\n",
    "# Apply H-Gates to counting qubits:\n",
    "for qubit in range(N):\n",
    "    qpe3.h(qubit)\n",
    "\n",
    "# Prepare our eigenstate |psi>:\n",
    "qpe3.x(N)\n",
    "\n",
    "# Do the controlled-U operations:\n",
    "angle = 2*math.pi/3\n",
    "repetitions = 1\n",
    "for counting_qubit in range(N):\n",
    "    for i in range(repetitions):\n",
    "        qpe3.cu1(angle, counting_qubit, N);\n",
    "    repetitions *= 2\n",
    "\n",
    "# Do the inverse QFT:\n",
    "qft_dagger(qpe3, N)\n",
    "\n",
    "# Measure of course!\n",
    "qpe3.barrier()\n",
    "for n in range(N):\n",
    "    qpe3.measure(n,n)\n",
    "\n",
    "qpe3.draw()"
   ]
  },
  {
   "cell_type": "code",
   "execution_count": 33,
   "metadata": {},
   "outputs": [
    {
     "data": {
      "image/png": "[encoded data removed]",
      "text/plain": [
       "<Figure size 504x360 with 1 Axes>"
      ]
     },
     "execution_count": 33,
     "metadata": {},
     "output_type": "execute_result"
    }
   ],
   "source": [
    "### Let's see the results!\n",
    "\n",
    "backend = Aer.get_backend('qasm_simulator')\n",
    "shots = 4096\n",
    "results = execute(qpe3, backend=backend, shots=shots).result()\n",
    "answer = results.get_counts()\n",
    "\n",
    "plot_histogram(answer)"
   ]
  },
  {
   "cell_type": "markdown",
   "metadata": {},
   "source": [
    "The two most likely measurements are now `01011` (decimal 11) and `01010` (decimal 10). Measuring these results would tell us $\\theta$ is:\n",
    "\n",
    "$$\n",
    "\\theta = \\frac{11}{2^5} = 0.344,\\;\\text{  or  }\\;\\; \\theta = \\frac{10}{2^5} = 0.313\n",
    "$$\n",
    "\n",
    "These two results differ from $\\frac{1}{3}$ by 3% and 6% respectively. A much better precision!"
   ]
  },
  {
   "cell_type": "markdown",
   "metadata": {},
   "source": [
    "## 4. Experiment with Real Devices <a id='real_devices'></a>\n",
    "### 4.1 Circuit from 2.1 <a id='circuit_2.1'></a>\n",
    "\n",
    "We can run the circuit in section 2.1 on a real device, let's remind ourselves of the circuit:"
   ]
  },
  {
   "cell_type": "code",
   "execution_count": 13,
   "metadata": {},
   "outputs": [
    {
     "data": {
      "text/html": [
       "<pre style=\"word-wrap: normal;white-space: pre;background: #fff0;line-height: 1.1;font-family: &quot;Courier New&quot;,Courier,monospace\">     ┌───┐                                                  ░    ┌───┐        »\n",
       "q_0: ┤ H ├─■────────────────────────────────────────────────░──X─┤ H ├─■──────»\n",
       "     ├───┤ │                                                ░  │ └───┘ │-pi/2 »\n",
       "q_1: ┤ H ├─┼──────■──────■──────────────────────────────────░──┼───────■──────»\n",
       "     ├───┤ │      │      │                                  ░  │              »\n",
       "q_2: ┤ H ├─┼──────┼──────┼──────■──────■──────■──────■──────░──X──────────────»\n",
       "     ├───┤ │pi/4  │pi/4  │pi/4  │pi/4  │pi/4  │pi/4  │pi/4  ░                 »\n",
       "q_3: ┤ X ├─■──────■──────■──────■──────■──────■──────■──────░─────────────────»\n",
       "     └───┘                                                  ░                 »\n",
       "c_0: ═════════════════════════════════════════════════════════════════════════»\n",
       "                                                                              »\n",
       "c_1: ═════════════════════════════════════════════════════════════════════════»\n",
       "                                                                              »\n",
       "c_2: ═════════════════════════════════════════════════════════════════════════»\n",
       "                                                                              »\n",
       "«                                ░ ┌─┐      \n",
       "«q_0: ──────■────────────────────░─┤M├──────\n",
       "«     ┌───┐ │                    ░ └╥┘┌─┐   \n",
       "«q_1: ┤ H ├─┼───────■────────────░──╫─┤M├───\n",
       "«     └───┘ │-pi/4  │-pi/2 ┌───┐ ░  ║ └╥┘┌─┐\n",
       "«q_2: ──────■───────■──────┤ H ├─░──╫──╫─┤M├\n",
       "«                          └───┘ ░  ║  ║ └╥┘\n",
       "«q_3: ───────────────────────────░──╫──╫──╫─\n",
       "«                                ░  ║  ║  ║ \n",
       "«c_0: ══════════════════════════════╩══╬══╬═\n",
       "«                                      ║  ║ \n",
       "«c_1: ═════════════════════════════════╩══╬═\n",
       "«                                         ║ \n",
       "«c_2: ════════════════════════════════════╩═\n",
       "«                                           </pre>"
      ],
      "text/plain": [
       "     ┌───┐                                                  ░    ┌───┐        »\n",
       "q_0: ┤ H ├─■────────────────────────────────────────────────░──X─┤ H ├─■──────»\n",
       "     ├───┤ │                                                ░  │ └───┘ │-pi/2 »\n",
       "q_1: ┤ H ├─┼──────■──────■──────────────────────────────────░──┼───────■──────»\n",
       "     ├───┤ │      │      │                                  ░  │              »\n",
       "q_2: ┤ H ├─┼──────┼──────┼──────■──────■──────■──────■──────░──X──────────────»\n",
       "     ├───┤ │pi/4  │pi/4  │pi/4  │pi/4  │pi/4  │pi/4  │pi/4  ░                 »\n",
       "q_3: ┤ X ├─■──────■──────■──────■──────■──────■──────■──────░─────────────────»\n",
       "     └───┘                                                  ░                 »\n",
       "c_0: ═════════════════════════════════════════════════════════════════════════»\n",
       "                                                                              »\n",
       "c_1: ═════════════════════════════════════════════════════════════════════════»\n",
       "                                                                              »\n",
       "c_2: ═════════════════════════════════════════════════════════════════════════»\n",
       "                                                                              »\n",
       "«                                ░ ┌─┐      \n",
       "«q_0: ──────■────────────────────░─┤M├──────\n",
       "«     ┌───┐ │                    ░ └╥┘┌─┐   \n",
       "«q_1: ┤ H ├─┼───────■────────────░──╫─┤M├───\n",
       "«     └───┘ │-pi/4  │-pi/2 ┌───┐ ░  ║ └╥┘┌─┐\n",
       "«q_2: ──────■───────■──────┤ H ├─░──╫──╫─┤M├\n",
       "«                          └───┘ ░  ║  ║ └╥┘\n",
       "«q_3: ───────────────────────────░──╫──╫──╫─\n",
       "«                                ░  ║  ║  ║ \n",
       "«c_0: ══════════════════════════════╩══╬══╬═\n",
       "«                                      ║  ║ \n",
       "«c_1: ═════════════════════════════════╩══╬═\n",
       "«                                         ║ \n",
       "«c_2: ════════════════════════════════════╩═\n",
       "«                                           "
      ]
     },
     "execution_count": 13,
     "metadata": {},
     "output_type": "execute_result"
    }
   ],
   "source": [
    "qpe.draw()"
   ]
  },
  {
   "cell_type": "code",
   "execution_count": 14,
   "metadata": {
    "tags": [
     "uses-hardware"
    ]
   },
   "outputs": [
    {
     "ename": "IBMQAccountCredentialsNotFound",
     "evalue": "'No IBM Quantum Experience credentials found.'",
     "output_type": "error",
     "traceback": [
      "\u001b[0;31m---------------------------------------------------------------------------\u001b[0m",
      "\u001b[0;31mIBMQAccountCredentialsNotFound\u001b[0m            Traceback (most recent call last)",
      "\u001b[0;32m<ipython-input-14-1083f6448f54>\u001b[0m in \u001b[0;36m<module>\u001b[0;34m\u001b[0m\n\u001b[1;32m      1\u001b[0m \u001b[0;31m# Load our saved IBMQ accounts and get the least busy backend device with less than or equal to n qubits\u001b[0m\u001b[0;34m\u001b[0m\u001b[0;34m\u001b[0m\u001b[0;34m\u001b[0m\u001b[0m\n\u001b[0;32m----> 2\u001b[0;31m \u001b[0mIBMQ\u001b[0m\u001b[0;34m.\u001b[0m\u001b[0mload_account\u001b[0m\u001b[0;34m(\u001b[0m\u001b[0;34m)\u001b[0m\u001b[0;34m\u001b[0m\u001b[0;34m\u001b[0m\u001b[0m\n\u001b[0m\u001b[1;32m      3\u001b[0m \u001b[0;32mfrom\u001b[0m \u001b[0mqiskit\u001b[0m\u001b[0;34m.\u001b[0m\u001b[0mproviders\u001b[0m\u001b[0;34m.\u001b[0m\u001b[0mibmq\u001b[0m \u001b[0;32mimport\u001b[0m \u001b[0mleast_busy\u001b[0m\u001b[0;34m\u001b[0m\u001b[0;34m\u001b[0m\u001b[0m\n\u001b[1;32m      4\u001b[0m \u001b[0;32mfrom\u001b[0m \u001b[0mqiskit\u001b[0m\u001b[0;34m.\u001b[0m\u001b[0mtools\u001b[0m\u001b[0;34m.\u001b[0m\u001b[0mmonitor\u001b[0m \u001b[0;32mimport\u001b[0m \u001b[0mjob_monitor\u001b[0m\u001b[0;34m\u001b[0m\u001b[0;34m\u001b[0m\u001b[0m\n\u001b[1;32m      5\u001b[0m \u001b[0mprovider\u001b[0m \u001b[0;34m=\u001b[0m \u001b[0mIBMQ\u001b[0m\u001b[0;34m.\u001b[0m\u001b[0mget_provider\u001b[0m\u001b[0;34m(\u001b[0m\u001b[0mhub\u001b[0m\u001b[0;34m=\u001b[0m\u001b[0;34m'ibm-q'\u001b[0m\u001b[0;34m)\u001b[0m\u001b[0;34m\u001b[0m\u001b[0;34m\u001b[0m\u001b[0m\n",
      "\u001b[0;32m/usr/local/lib/python3.7/site-packages/qiskit/providers/ibmq/ibmqfactory.py\u001b[0m in \u001b[0;36mload_account\u001b[0;34m(self)\u001b[0m\n\u001b[1;32m    168\u001b[0m         \u001b[0;32mif\u001b[0m \u001b[0;32mnot\u001b[0m \u001b[0mcredentials_list\u001b[0m\u001b[0;34m:\u001b[0m\u001b[0;34m\u001b[0m\u001b[0;34m\u001b[0m\u001b[0m\n\u001b[1;32m    169\u001b[0m             raise IBMQAccountCredentialsNotFound(\n\u001b[0;32m--> 170\u001b[0;31m                 'No IBM Quantum Experience credentials found.')\n\u001b[0m\u001b[1;32m    171\u001b[0m \u001b[0;34m\u001b[0m\u001b[0m\n\u001b[1;32m    172\u001b[0m         \u001b[0;32mif\u001b[0m \u001b[0mlen\u001b[0m\u001b[0;34m(\u001b[0m\u001b[0mcredentials_list\u001b[0m\u001b[0;34m)\u001b[0m \u001b[0;34m>\u001b[0m \u001b[0;36m1\u001b[0m\u001b[0;34m:\u001b[0m\u001b[0;34m\u001b[0m\u001b[0;34m\u001b[0m\u001b[0m\n",
      "\u001b[0;31mIBMQAccountCredentialsNotFound\u001b[0m: 'No IBM Quantum Experience credentials found.'"
     ]
    }
   ],
   "source": [
    "# Load our saved IBMQ accounts and get the least busy backend device with less than or equal to n qubits\n",
    "IBMQ.load_account()\n",
    "from qiskit.providers.ibmq import least_busy\n",
    "from qiskit.tools.monitor import job_monitor\n",
    "provider = IBMQ.get_provider(hub='ibm-q')\n",
    "backend = provider.get_backend('ibmq_vigo')\n",
    "\n",
    "# Run with 2048 shots\n",
    "shots = 2048\n",
    "job = execute(qpe, backend=backend, shots=2048, optimization_level=3)\n",
    "job_monitor(job)"
   ]
  },
  {
   "cell_type": "code",
   "execution_count": 15,
   "metadata": {
    "tags": [
     "uses-hardware"
    ]
   },
   "outputs": [
    {
     "ename": "NameError",
     "evalue": "name 'job' is not defined",
     "output_type": "error",
     "traceback": [
      "\u001b[0;31m---------------------------------------------------------------------------\u001b[0m",
      "\u001b[0;31mNameError\u001b[0m                                 Traceback (most recent call last)",
      "\u001b[0;32m<ipython-input-15-1959cf22d399>\u001b[0m in \u001b[0;36m<module>\u001b[0;34m\u001b[0m\n\u001b[1;32m      1\u001b[0m \u001b[0;31m# get the results from the computation\u001b[0m\u001b[0;34m\u001b[0m\u001b[0;34m\u001b[0m\u001b[0;34m\u001b[0m\u001b[0m\n\u001b[0;32m----> 2\u001b[0;31m \u001b[0mresults\u001b[0m \u001b[0;34m=\u001b[0m \u001b[0mjob\u001b[0m\u001b[0;34m.\u001b[0m\u001b[0mresult\u001b[0m\u001b[0;34m(\u001b[0m\u001b[0;34m)\u001b[0m\u001b[0;34m\u001b[0m\u001b[0;34m\u001b[0m\u001b[0m\n\u001b[0m\u001b[1;32m      3\u001b[0m \u001b[0manswer\u001b[0m \u001b[0;34m=\u001b[0m \u001b[0mresults\u001b[0m\u001b[0;34m.\u001b[0m\u001b[0mget_counts\u001b[0m\u001b[0;34m(\u001b[0m\u001b[0mqpe\u001b[0m\u001b[0;34m)\u001b[0m\u001b[0;34m\u001b[0m\u001b[0;34m\u001b[0m\u001b[0m\n\u001b[1;32m      4\u001b[0m \u001b[0;34m\u001b[0m\u001b[0m\n\u001b[1;32m      5\u001b[0m \u001b[0mplot_histogram\u001b[0m\u001b[0;34m(\u001b[0m\u001b[0manswer\u001b[0m\u001b[0;34m)\u001b[0m\u001b[0;34m\u001b[0m\u001b[0;34m\u001b[0m\u001b[0m\n",
      "\u001b[0;31mNameError\u001b[0m: name 'job' is not defined"
     ]
    }
   ],
   "source": [
    "# get the results from the computation\n",
    "results = job.result()\n",
    "answer = results.get_counts(qpe)\n",
    "\n",
    "plot_histogram(answer)"
   ]
  },
  {
   "cell_type": "markdown",
   "metadata": {},
   "source": [
    "We can hopefully see that the most likely result is `001` which is the result we would expect from the simulator. Unlike the simulator, there is a probability of measuring something other than `001`, this is due to noise and gate errors in the quantum computer."
   ]
  },
  {
   "cell_type": "markdown",
   "metadata": {},
   "source": [
    "## 5. Exercises <a id='exercises'></a>\n",
    "1. Try the experiments above with different gates ($\\text{CNOT}$, $S$, $T^\\dagger$), what results do you expect? What results do you get?\n",
    "\n",
    "2. Try the experiment with a $Y$-gate, do you get the correct result? (Hint: Remember to make sure $|\\psi\\rangle$ is an eigenstate of $Y$!)\n"
   ]
  },
  {
   "cell_type": "code",
   "execution_count": 23,
   "metadata": {},
   "outputs": [
    {
     "data": {
      "image/png": "[encoded data removed]",
      "text/plain": [
       "<Figure size 504x360 with 1 Axes>"
      ]
     },
     "execution_count": 23,
     "metadata": {},
     "output_type": "execute_result"
    }
   ],
   "source": [
    "# CNOT\n",
    "\n",
    "# Create and set up circuit\n",
    "qpe3 = QuantumCircuit(6, 5)\n",
    "\n",
    "# Apply H-Gates to counting qubits:\n",
    "for qubit in range(5):\n",
    "    qpe3.h(qubit)\n",
    "\n",
    "# Prepare our eigenstate |psi>:\n",
    "qpe3.x(5)\n",
    "qpe3.h(5)\n",
    "\n",
    "# Do the controlled-U operations:\n",
    "angle = 2*math.pi/3\n",
    "repetitions = 1\n",
    "for counting_qubit in range(5):\n",
    "    for i in range(repetitions):\n",
    "        qpe3.cx(counting_qubit, 5);\n",
    "    repetitions *= 2\n",
    "\n",
    "# Do the inverse QFT:\n",
    "qft_dagger(qpe3, 5)\n",
    "\n",
    "# Measure of course!\n",
    "qpe3.barrier()\n",
    "for n in range(5):\n",
    "    qpe3.measure(n,n)\n",
    "    \n",
    "backend = Aer.get_backend('qasm_simulator')\n",
    "shots = 4096\n",
    "results = execute(qpe3, backend=backend, shots=shots).result()\n",
    "answer = results.get_counts()\n",
    "\n",
    "plot_histogram(answer)"
   ]
  },
  {
   "cell_type": "code",
   "execution_count": 20,
   "metadata": {},
   "outputs": [
    {
     "data": {
      "image/png": "[encoded data removed]",
      "text/plain": [
       "<Figure size 504x360 with 1 Axes>"
      ]
     },
     "execution_count": 20,
     "metadata": {},
     "output_type": "execute_result"
    }
   ],
   "source": [
    "# S\n",
    "\n",
    "# Create and set up circuit\n",
    "qpe3 = QuantumCircuit(6, 5)\n",
    "\n",
    "# Apply H-Gates to counting qubits:\n",
    "for qubit in range(5):\n",
    "    qpe3.h(qubit)\n",
    "\n",
    "# Prepare our eigenstate |psi>:\n",
    "qpe3.x(5)\n",
    "\n",
    "# Do the controlled-U operations:\n",
    "angle = math.pi\n",
    "repetitions = 1\n",
    "for counting_qubit in range(5):\n",
    "    for i in range(repetitions):\n",
    "        qpe3.cu1(angle, counting_qubit, 5);\n",
    "    repetitions *= 2\n",
    "\n",
    "# Do the inverse QFT:\n",
    "qft_dagger(qpe3, 5)\n",
    "\n",
    "# Measure of course!\n",
    "qpe3.barrier()\n",
    "for n in range(5):\n",
    "    qpe3.measure(n,n)\n",
    "    \n",
    "backend = Aer.get_backend('qasm_simulator')\n",
    "shots = 4096\n",
    "results = execute(qpe3, backend=backend, shots=shots).result()\n",
    "answer = results.get_counts()\n",
    "\n",
    "plot_histogram(answer)"
   ]
  },
  {
   "cell_type": "code",
   "execution_count": 26,
   "metadata": {},
   "outputs": [
    {
     "data": {
      "image/png": "[encoded data removed]",
      "text/plain": [
       "<Figure size 504x360 with 1 Axes>"
      ]
     },
     "execution_count": 26,
     "metadata": {},
     "output_type": "execute_result"
    }
   ],
   "source": [
    "# T-dag\n",
    "\n",
    "# Create and set up circuit\n",
    "qpe3 = QuantumCircuit(6, 5)\n",
    "\n",
    "# Apply H-Gates to counting qubits:\n",
    "for qubit in range(5):\n",
    "    qpe3.h(qubit)\n",
    "\n",
    "# Prepare our eigenstate |psi>:\n",
    "qpe3.x(5)\n",
    "\n",
    "# Do the controlled-U operations:\n",
    "angle = -1*math.pi/4\n",
    "repetitions = 1\n",
    "for counting_qubit in range(5):\n",
    "    for i in range(repetitions):\n",
    "        qpe3.cu1(angle,counting_qubit, 5);\n",
    "    repetitions *= 2\n",
    "\n",
    "# Do the inverse QFT:\n",
    "qft_dagger(qpe3, 5)\n",
    "\n",
    "# Measure of course!\n",
    "qpe3.barrier()\n",
    "for n in range(5):\n",
    "    qpe3.measure(n,n)\n",
    "    \n",
    "backend = Aer.get_backend('qasm_simulator')\n",
    "shots = 4096\n",
    "results = execute(qpe3, backend=backend, shots=shots).result()\n",
    "answer = results.get_counts()\n",
    "\n",
    "plot_histogram(answer)"
   ]
  },
  {
   "cell_type": "code",
   "execution_count": 38,
   "metadata": {},
   "outputs": [
    {
     "data": {
      "image/png": "[encoded data removed]",
      "text/plain": [
       "<Figure size 504x360 with 1 Axes>"
      ]
     },
     "execution_count": 38,
     "metadata": {},
     "output_type": "execute_result"
    }
   ],
   "source": [
    "# Y\n",
    "\n",
    "# Create and set up circuit\n",
    "qpe3 = QuantumCircuit(6, 5)\n",
    "\n",
    "# Apply H-Gates to counting qubits:\n",
    "for qubit in range(5):\n",
    "    qpe3.h(qubit)\n",
    "\n",
    "# Prepare our eigenstate |psi>:\n",
    "qpe3.h(5)\n",
    "qpe3.u1(-math.pi/2, 5)\n",
    "\n",
    "# Do the controlled-U operations:\n",
    "angle = -1*math.pi\n",
    "repetitions = 1\n",
    "for counting_qubit in range(5):\n",
    "    for i in range(repetitions):\n",
    "        qpe3.cy(counting_qubit, 5);\n",
    "    repetitions *= 2\n",
    "\n",
    "# Do the inverse QFT:\n",
    "qft_dagger(qpe3, 5)\n",
    "\n",
    "# Measure of course!\n",
    "qpe3.barrier()\n",
    "for n in range(5):\n",
    "    qpe3.measure(n,n)\n",
    "    \n",
    "backend = Aer.get_backend('qasm_simulator')\n",
    "shots = 4096\n",
    "results = execute(qpe3, backend=backend, shots=shots).result()\n",
    "answer = results.get_counts()\n",
    "\n",
    "plot_histogram(answer)"
   ]
  },
  {
   "cell_type": "markdown",
   "metadata": {},
   "source": [
    "## 6. Looking Forward <a id='looking_forward'></a>\n",
    "\n",
    "The quantum phase estimation algorithm may seem pointless, since we have to know $\\theta$ to perform the controlled-$U$ operations on our quantum computer. We will see in later chapters that it is possible to create circuits for which we don’t know $\\theta$, and for which learning theta can tell us something very useful (most famously how to factor a number!)"
   ]
  },
  {
   "cell_type": "markdown",
   "metadata": {},
   "source": [
    "## 7. References <a id='references'></a>\n",
    "\n",
    "[1] Michael A. Nielsen and Isaac L. Chuang. 2011. Quantum Computation and Quantum Information: 10th Anniversary Edition (10th ed.). Cambridge University Press, New York, NY, USA. "
   ]
  },
  {
   "cell_type": "markdown",
   "metadata": {},
   "source": [
    "## 8. Contributors <a id='contributors'></a>\n",
    "03/20/2020 — Hwajung Kang (@HwajungKang) — Fixed inconsistencies with qubit ordering"
   ]
  },
  {
   "cell_type": "code",
   "execution_count": 16,
   "metadata": {},
   "outputs": [
    {
     "data": {
      "text/plain": [
       "{'qiskit-terra': '0.14.2',\n",
       " 'qiskit-aer': '0.5.2',\n",
       " 'qiskit-ignis': '0.3.3',\n",
       " 'qiskit-ibmq-provider': '0.7.2',\n",
       " 'qiskit-aqua': '0.7.3',\n",
       " 'qiskit': '0.19.6'}"
      ]
     },
     "execution_count": 16,
     "metadata": {},
     "output_type": "execute_result"
    }
   ],
   "source": [
    "import qiskit\n",
    "qiskit.__qiskit_version__"
   ]
  }
 ],
 "metadata": {
  "kernelspec": {
   "display_name": "Python 3",
   "language": "python",
   "name": "python3"
  },
  "language_info": {
   "codemirror_mode": {
    "name": "ipython",
    "version": 3
   },
   "file_extension": ".py",
   "mimetype": "text/x-python",
   "name": "python",
   "nbconvert_exporter": "python",
   "pygments_lexer": "ipython3",
   "version": "3.7.8"
  },
  "toc": {
   "base_numbering": 1,
   "nav_menu": {},
   "number_sections": true,
   "sideBar": true,
   "skip_h1_title": false,
   "title_cell": "Table of Contents",
   "title_sidebar": "Contents",
   "toc_cell": false,
   "toc_position": {},
   "toc_section_display": true,
   "toc_window_display": false
  }
 },
 "nbformat": 4,
 "nbformat_minor": 4
}
